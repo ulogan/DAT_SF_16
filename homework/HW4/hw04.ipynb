{
 "cells": [
  {
   "cell_type": "code",
   "execution_count": 1,
   "metadata": {
    "collapsed": true
   },
   "outputs": [],
   "source": [
    "# includes\n",
    "\n",
    "import numpy as np\n",
    "import pandas as pd\n",
    "from bokeh.plotting import figure, show, output_file\n",
    "from bokeh.models import Range1d\n",
    "\n",
    "from statsmodels.sandbox.regression.predstd import wls_prediction_std\n",
    "\n",
    "from sklearn.linear_model import Ridge, Lasso\n",
    "\n",
    "import matplotlib.pyplot as plt\n",
    "from pandas.tools.plotting import scatter_matrix\n",
    "\n",
    "from sklearn.cross_validation import cross_val_score\n",
    "from sklearn.linear_model import LogisticRegression\n",
    "from sklearn.neighbors import KNeighborsClassifier\n",
    "\n",
    "# Statsmodel APIs\n",
    "import statsmodels.api as sm"
   ]
  },
  {
   "cell_type": "code",
   "execution_count": 2,
   "metadata": {
    "collapsed": true
   },
   "outputs": [],
   "source": [
    "# Bokeh output file\n",
    "output_file(\"hw04.html\", title = \"analysis\")\n"
   ]
  },
  {
   "cell_type": "code",
   "execution_count": 3,
   "metadata": {
    "collapsed": true
   },
   "outputs": [],
   "source": [
    "def projectile():\n",
    "    # Read the csv file\n",
    "    df = pd.read_csv(\"projectile.csv\", header = 0)\n",
    "\n",
    "    x = df['time'].values\n",
    "    y = df['height'].values\n",
    "\n",
    "    X = np.c_[x**2, x, np.ones(len(x))]\n",
    "\n",
    "    res = sm.OLS(y, X).fit()\n",
    "\n",
    "    xx = np.array([2.75, 3, 3.25, 3.5, 3.75, 4]);\n",
    "\n",
    "    print res.summary()\n",
    "\n",
    "    if True:\n",
    "        p = figure(title = 'Blue = True; Red = OLS')\n",
    "        p.circle(x, y, size = 8, color = 'blue')\n",
    "        p.line(xx, res.predict(np.vander(xx, 3)), color = 'red')\n",
    "        show(p)\n",
    "\n",
    "# 3.4 secs is the answer"
   ]
  },
  {
   "cell_type": "code",
   "execution_count": 4,
   "metadata": {
    "collapsed": true
   },
   "outputs": [],
   "source": [
    "def healthcare():\n",
    "    # read the csv file\n",
    "    df = pd.read_csv(\"healthcare.csv\", header = 0)\n",
    "\n",
    "    x = df['cost'].values\n",
    "    y = df['year'].values\n",
    "\n",
    "    X = np.c_[x, np.ones(len(x))]\n",
    "\n",
    "    res = sm.OLS(y, X).fit()\n",
    "\n",
    "    m, b = res.params\n",
    "\n",
    "    # cost of health care $2800 by\n",
    "    pred_year = (m * 2800) + b;\n",
    "\n",
    "    print pred_year;\n",
    "\n"
   ]
  },
  {
   "cell_type": "code",
   "execution_count": 5,
   "metadata": {
    "collapsed": true
   },
   "outputs": [],
   "source": [
    "def dataset():\n",
    "    x = np.array([ -1, 0, 1,   2, 3, 5, 7, 9 ])\n",
    "    y = np.array([ -1, 3, 2.5, 5, 4, 2, 5, 4 ])\n",
    "\n",
    "    X = np.c_[x ** 5, x ** 4, x ** 3, x ** 2, x, np.ones(len(x))]\n",
    "\n",
    "    res = sm.OLS(y, X).fit()\n",
    "\n",
    "    ridge = Ridge(alpha = .2)\n",
    "    ridge.fit(np.vander(x, 6), y)\n",
    "\n",
    "    lasso = Lasso(alpha = 1)\n",
    "    lasso.fit(np.vander(x, 6), y)\n",
    "\n",
    "    p = figure(title = \"Regularization\")\n",
    "    p.circle(x, y, size = 8, color = 'blue')\n",
    "\n",
    "    xx = np.linspace(-1.25, 10, 100)\n",
    "\n",
    "    p.line(xx, res.predict(np.vander(xx, 6)), color = 'red')\n",
    "    p.line(xx, ridge.predict(np.vander(xx, 6)), color = 'green')\n",
    "    p.line(xx, lasso.predict(np.vander(xx, 6)), color = 'cyan')\n",
    "\n",
    "    # Ridge predict is better\n",
    "\n",
    "    show(p)\n"
   ]
  },
  {
   "cell_type": "code",
   "execution_count": 6,
   "metadata": {
    "collapsed": true
   },
   "outputs": [],
   "source": [
    "def wine(mflag):\n",
    "    # read the csv file\n",
    "    df = pd.read_csv(\"redWineQuality.csv\", header = 0, sep = \";\")\n",
    "\n",
    "    # normalize data\n",
    "    df_n = pd.DataFrame()\n",
    "    for col in df.columns:\n",
    "        if (col == \"quality\"):\n",
    "            df_n[col] = df[col]\n",
    "        else:\n",
    "            rng = df[col].max() - df[col].min()\n",
    "            df_n[col] = ((df[col] - df[col].min()) / rng) * 10;\n",
    "\n",
    "    if False:\n",
    "        print df_n.head()\n",
    "        print len(df.columns)\n",
    "\n",
    "    # Scatter plot\n",
    "    if False:\n",
    "        scat = scatter_matrix(df_n, figsize = (18, 18))\n",
    "        plt.show();\n",
    "\n",
    "    # Some co-relation (not sure how to read the quality)\n",
    "    # 11 factors and 1 target (quality), Data is not normalized\n",
    "\n",
    "    features = df_n.drop(\"quality\", axis = 1)\n",
    "    target = df_n.quality\n",
    "\n",
    "    if mflag:\n",
    "        model_lr = LogisticRegression(C = 1)\n",
    "        model = model_lr\n",
    "    else:\n",
    "        model_knn = KNeighborsClassifier(3)\n",
    "        model = model_knn\n",
    "\n",
    "    print cross_val_score(model, features, target, cv = 3).mean()\n",
    "    return df_n, features, target, model;"
   ]
  },
  {
   "cell_type": "code",
   "execution_count": 7,
   "metadata": {
    "collapsed": true
   },
   "outputs": [],
   "source": [
    "def cwine():\n",
    "    print \"KNN\"\n",
    "    wine(False)\n",
    "\n",
    "    print \"Logistic\"\n",
    "    df, features, target, model = wine(True)\n",
    "\n",
    "    feature_names = df.columns[:-1]\n",
    "\n",
    "    if False:\n",
    "        model_fit = model.fit(features, target);\n",
    "\n",
    "        p = figure(title = \"Model Cofficients\")\n",
    "\n",
    "        coefficients = model_fit.coef_.ravel()\n",
    "\n",
    "        x = np.arange(len(feature_names))\n",
    "        for val in x:\n",
    "            p.quad(top = coefficients[val], bottom = 0, left = val + 0.2,\n",
    "                    right = val + 0.8, color = [ 'red', 'orange', 'green', 'purple',\n",
    "                                                'blue', 'cyan', 'magenta', 'red', \n",
    "                                                'orange', 'purple', 'blue'][val], legend = feature_names[val])\n",
    "        p.y_range = Range1d(min(coefficients) - 0.1, max(coefficients) + 1.5)\n",
    "        show(p)\n",
    "    else:\n",
    "        fld = \"totSul\"\n",
    "        ridge = Ridge(alpha = .2)\n",
    "        ridge.fit(np.vander(features[fld], 6), target)\n",
    "\n",
    "        lasso = Lasso(alpha = 1)\n",
    "        lasso.fit(np.vander(features[fld], 6), target)\n",
    "\n",
    "        p = figure(title = \"Regularization\")\n",
    "        p.circle(features[fld], target, size = 8, color = 'blue')\n",
    "\n",
    "        xx = np.linspace(-1.25, 10, 100)\n",
    "\n",
    "        p.line(xx, ridge.predict(np.vander(xx, 6)), color = 'green')\n",
    "        p.line(xx, lasso.predict(np.vander(xx, 6)), color = 'cyan')\n",
    "\n",
    "        show(p)\n"
   ]
  },
  {
   "cell_type": "code",
   "execution_count": 12,
   "metadata": {
    "collapsed": false
   },
   "outputs": [
    {
     "name": "stdout",
     "output_type": "stream",
     "text": [
      "                            OLS Regression Results                            \n",
      "==============================================================================\n",
      "Dep. Variable:                      y   R-squared:                       0.890\n",
      "Model:                            OLS   Adj. R-squared:                  0.781\n",
      "Method:                 Least Squares   F-statistic:                     8.120\n",
      "Date:                Mon, 24 Aug 2015   Prob (F-statistic):              0.110\n",
      "Time:                        12:23:03   Log-Likelihood:                -9.7586\n",
      "No. Observations:                   5   AIC:                             25.52\n",
      "Df Residuals:                       2   BIC:                             24.35\n",
      "Df Model:                           2                                         \n",
      "Covariance Type:            nonrobust                                         \n",
      "==============================================================================\n",
      "                 coef    std err          t      P>|t|      [95.0% Conf. Int.]\n",
      "------------------------------------------------------------------------------\n",
      "x1           -10.5171      2.880     -3.652      0.067       -22.908     1.873\n",
      "x2            34.4534      8.806      3.913      0.060        -3.434    72.341\n",
      "const          6.5920      5.777      1.141      0.372       -18.266    31.450\n",
      "==============================================================================\n",
      "Omnibus:                          nan   Durbin-Watson:                   2.951\n",
      "Prob(Omnibus):                    nan   Jarque-Bera (JB):                0.727\n",
      "Skew:                          -0.849   Prob(JB):                        0.695\n",
      "Kurtosis:                       2.220   Cond. No.                         35.2\n",
      "==============================================================================\n",
      "\n",
      "Warnings:\n",
      "[1] Standard Errors assume that the covariance matrix of the errors is correctly specified.\n"
     ]
    }
   ],
   "source": [
    "projectile()"
   ]
  },
  {
   "cell_type": "code",
   "execution_count": 13,
   "metadata": {
    "collapsed": false
   },
   "outputs": [
    {
     "name": "stdout",
     "output_type": "stream",
     "text": [
      "2005.53244068\n"
     ]
    }
   ],
   "source": [
    "healthcare()"
   ]
  },
  {
   "cell_type": "code",
   "execution_count": 14,
   "metadata": {
    "collapsed": false
   },
   "outputs": [
    {
     "name": "stderr",
     "output_type": "stream",
     "text": [
      "/Users/logan/anaconda/lib/python2.7/site-packages/sklearn/linear_model/coordinate_descent.py:444: ConvergenceWarning: Objective did not converge. You might want to increase the number of iterations\n",
      "  ConvergenceWarning)\n"
     ]
    }
   ],
   "source": [
    "dataset()"
   ]
  },
  {
   "cell_type": "code",
   "execution_count": 15,
   "metadata": {
    "collapsed": false
   },
   "outputs": [
    {
     "name": "stdout",
     "output_type": "stream",
     "text": [
      "KNN\n",
      "0.48161649247\n",
      "Logistic\n",
      "0.571062189138\n"
     ]
    }
   ],
   "source": [
    "cwine()"
   ]
  }
 ],
 "metadata": {
  "kernelspec": {
   "display_name": "Python 2",
   "language": "python",
   "name": "python2"
  },
  "language_info": {
   "codemirror_mode": {
    "name": "ipython",
    "version": 2
   },
   "file_extension": ".py",
   "mimetype": "text/x-python",
   "name": "python",
   "nbconvert_exporter": "python",
   "pygments_lexer": "ipython2",
   "version": "2.7.10"
  }
 },
 "nbformat": 4,
 "nbformat_minor": 0
}
