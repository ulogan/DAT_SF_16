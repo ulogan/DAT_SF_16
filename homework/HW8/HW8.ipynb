{
 "cells": [
  {
   "cell_type": "code",
   "execution_count": 1,
   "metadata": {
    "collapsed": true
   },
   "outputs": [],
   "source": [
    "# usual imports\n",
    "import numpy as np\n",
    "import pandas as pd\n",
    "\n",
    "from sklearn.metrics.pairwise import cosine_similarity\n",
    "\n",
    "import recsys.algorithm\n",
    "recsys.algorithm.VERBOSE = True\n",
    "from recsys.algorithm.factorize import SVD\n"
   ]
  },
  {
   "cell_type": "code",
   "execution_count": 2,
   "metadata": {
    "collapsed": true
   },
   "outputs": [],
   "source": [
    "bookRatings = pd.read_csv(\"BX-Book-Ratings.csv\", sep = \";\", quotechar = \"\\\"\")\n",
    "\n",
    "users = pd.read_csv(\"BX-Users.csv\", sep = \";\", quotechar = \"\\\"\", escapechar = \"\\\\\")\n",
    "\n",
    "books = pd.read_csv(\"BX-Books.csv\", sep = \";\", quotechar = \"\\\"\", escapechar = \"\\\\\")\n"
   ]
  },
  {
   "cell_type": "code",
   "execution_count": 3,
   "metadata": {
    "collapsed": true
   },
   "outputs": [],
   "source": [
    "def lab14():\n",
    "    movies = pd.read_table('movies.dat', sep = '::', names = [ 'ITEMID', 'Title', 'Genres'], index_col = 'ITEMID')\n",
    "\n",
    "    if False:\n",
    "        print movies.head()\n",
    "\n",
    "    ratings = pd.read_table('ratings.dat', sep = '::', names = [ 'UserID', 'MovieID', 'Rating', 'Timestamp' ])\n",
    "\n",
    "    if False:\n",
    "        print ratings.head()\n",
    "\n",
    "    if True:\n",
    "        svd = SVD()\n",
    "        svd.load_data(filename = 'ratings.dat', sep = '::', format = {'col' : 0, 'row' : 1, 'value' : 2, 'ids' : int})\n",
    "\n",
    "        k = 100\n",
    "        svd.compute(k = k, min_values = 10, pre_normalize = None, mean_center = True, post_normalize = True,  savefile = '/tmp/movielens')\n",
    "    else:\n",
    "        svd = SVD(filename = '/tmp/movielens')\n",
    "\n",
    "    if True:\n",
    "        if False:\n",
    "            movies[movies.Title == \"Toy Story (1995)\"]\n",
    "            movies[movies.Title == \"Bug's Life, A (1998)\"]\n",
    "        ITEMID1 = 1    # Toy Story (1995)\n",
    "        ITEMID2 = 2355 # A bug's life (1998)\n",
    "        print \"Similarity between %d and %d is %8.6f\" % (ITEMID1, ITEMID2, svd.similarity(ITEMID1, ITEMID2))\n",
    "\n",
    "    if True:\n",
    "        print \"Similar to %d\" % (ITEMID1)\n",
    "        for s in svd.similar(ITEMID1):\n",
    "            print \"\\t%-5d\\t%8.6f\" % (s[0], s[1])\n",
    "\n",
    "    if True:\n",
    "        MIN_RATING = 0.0\n",
    "        MAX_RATING = 5.0\n",
    "        ITEMID = 1\n",
    "        USERID = 1\n",
    "        print \"Predict : %5d\" % (svd.predict(ITEMID, USERID, MIN_RATING, MAX_RATING))\n",
    "\n",
    "        print \"Get Matrix : %5d\" % (svd.get_matrix().value(ITEMID, USERID))\n",
    "\n",
    "        print \"For User %d\" % (USERID)\n",
    "        for s in  svd.recommend(USERID, is_row = False):\n",
    "            print \"\\t%-5d\\t%8.6f\" % (s[0], s[1])\n",
    "\n",
    "        print \"For Item %d\" % (ITEMID)\n",
    "        for s in  svd.recommend(ITEMID):\n",
    "            print \"\\t%-5d\\t%8.6f\" % (s[0], s[1])\n"
   ]
  },
  {
   "cell_type": "code",
   "execution_count": 4,
   "metadata": {
    "collapsed": true
   },
   "outputs": [],
   "source": [
    "def bookISBN(br, isbn, k):\n",
    "    n = 250\n",
    "    top_n = br.ISBN.value_counts().index[ : n]\n",
    "    df = br[br.ISBN.isin(top_n)]\n",
    "\n",
    "    df_pivot = df.pivot(\"ISBN\", \"User-ID\", \"Book-Rating\")\n",
    "    df_pivot = df_pivot.fillna(0)\n",
    "\n",
    "    if False:\n",
    "        print df_pivot.info()\n",
    "        print df_pivot.head()\n",
    "\n",
    "    dists = cosine_similarity(df_pivot)\n",
    "\n",
    "    dists = pd.DataFrame(dists)\n",
    "    dists.columns = df_pivot.index\n",
    "    dists.index = df_pivot.index\n",
    "\n",
    "    if False:\n",
    "        print dists.info()\n",
    "        print dists.head()\n",
    "        print dists[isbn].head()\n",
    "\n",
    "    books_summed = dists[isbn].apply(lambda row: np.sum(row), axis = 1)\n",
    "    books_summed = books_summed.order(ascending = False)\n",
    "\n",
    "    ranked_books = books_summed.index[books_summed.index.isin(isbn) == False]\n",
    "\n",
    "    ranked_books = ranked_books.tolist()\n",
    "\n",
    "    print ranked_books[:k]\n"
   ]
  },
  {
   "cell_type": "code",
   "execution_count": 5,
   "metadata": {
    "collapsed": true
   },
   "outputs": [],
   "source": [
    "def bookUSER(br, user, k):\n",
    "    n = 50\n",
    "    top_n = br[\"User-ID\"].value_counts().index[ : n]\n",
    "    df = br[br[\"User-ID\"].isin(top_n)]\n",
    "\n",
    "    df_pivot = df.pivot(\"User-ID\", \"ISBN\", \"Book-Rating\")\n",
    "    df_pivot = df_pivot.fillna(0)\n",
    "\n",
    "    if False:\n",
    "        print df_pivot.info()\n",
    "        print df_pivot.head()\n",
    "\n",
    "    dists = cosine_similarity(df_pivot)\n",
    "\n",
    "    dists = pd.DataFrame(dists)\n",
    "    dists.columns = df_pivot.index\n",
    "    dists.index = df_pivot.index\n",
    "\n",
    "    if False:\n",
    "        print dists.info()\n",
    "        print dists.head()\n",
    "        print dists[user].head()\n",
    "\n",
    "    users_summed = dists[user].apply(lambda row: np.sum(row), axis = 1)\n",
    "    users_summed = users_summed.order(ascending = False)\n",
    "\n",
    "    ranked_users = users_summed.index[users_summed.index.isin(user) == False]\n",
    "\n",
    "    ranked_users = ranked_users.tolist()\n",
    "\n",
    "    print ranked_users[:k]\n"
   ]
  },
  {
   "cell_type": "code",
   "execution_count": 6,
   "metadata": {
    "collapsed": true
   },
   "outputs": [],
   "source": [
    "def disp():\n",
    "    print \"Book Ratings %d\" % (len(bookRatings))\n",
    "    print bookRatings.info()\n",
    "    print \"Users %d\" % (len(users))\n",
    "    print users.info()\n",
    "    print \"Books %d\" % (len(books))\n",
    "    print books.info()\n"
   ]
  },
  {
   "cell_type": "code",
   "execution_count": 7,
   "metadata": {
    "collapsed": true
   },
   "outputs": [],
   "source": [
    "def recommend(usr):\n",
    "    svd = SVD()\n",
    "    svd.load_data(filename = \"nBX-Book-Ratings.csv\", sep = \";\", format = {'col' : 0, 'row' : 1, 'value' : 2, 'ids' : int})\n",
    "    k = 100\n",
    "    svd.compute(k = k, min_values = 10, pre_normalize = None, mean_center = True, post_normalize = True,  savefile = '/tmp/booklens')\n",
    "    for s in svd.recommend(usr, is_row = False):\n",
    "        bookframe = books[books.ISBN == s[0]]\n",
    "        if (len(bookframe) == 0):\n",
    "            ns = \"0%s\" % (s[0])\n",
    "            bookframe = books[books.ISBN == ns]\n",
    "            if (len(bookframe) == 0):\n",
    "                continue;\n",
    "        bookname = bookframe.to_string(columns = [1], index = False, header = False)\n",
    "        print \"%-15s %s\" % (s[0], bookname)\n"
   ]
  },
  {
   "cell_type": "code",
   "execution_count": 8,
   "metadata": {
    "collapsed": true
   },
   "outputs": [],
   "source": [
    "class hwloc(object):\n",
    "    def __init__(self, pname, pcount):\n",
    "        self.name = pname\n",
    "        self.count = pcount\n",
    "\n",
    "def location():\n",
    "    clist = {}\n",
    "    uclist = []\n",
    "    for looploc in users[\"Location\"]:\n",
    "        cname = looploc.split(',')\n",
    "        if (len(cname) > 2):\n",
    "            name = cname[2]\n",
    "            if (name not in uclist):\n",
    "                uclist.append(name)\n",
    "                clist[name] = 1\n",
    "            else:\n",
    "                clist[name] += 1;\n",
    "\n",
    "    locarr = [];\n",
    "    for c in clist:\n",
    "        lloc = hwloc(c, clist[c])\n",
    "        locarr.append(lloc)\n",
    "\n",
    "    slocarr = sorted(locarr, key = lambda hwloc: hwloc.count, reverse = True)\n",
    "\n",
    "    for i in range(10):\n",
    "        print \"%-35s %20d\" % (slocarr[i].name, slocarr[i].count)\n"
   ]
  },
  {
   "cell_type": "code",
   "execution_count": 9,
   "metadata": {
    "collapsed": false
   },
   "outputs": [
    {
     "name": "stdout",
     "output_type": "stream",
     "text": [
      "Loading ratings.dat\n",
      "..........|\n",
      "Creating matrix (1000209 tuples)\n",
      "Matrix density is: 4.4684%\n",
      "Updating matrix: squish to at least 10 values\n",
      "Computing svd k=100, min_values=10, pre_normalize=None, mean_center=True, post_normalize=True\n",
      "[WARNING] mean_center is True. svd.similar(...) might return nan's. If so, then do svd.compute(..., mean_center=False)\n",
      "Saving svd model to /tmp/movielens\n",
      "Similarity between 1 and 2355 is 0.677069\n",
      "Similar to 1\n",
      "\t1    \t1.000000\n",
      "\t3114 \t0.870604\n",
      "\t2355 \t0.677069\n",
      "\t588  \t0.580735\n",
      "\t595  \t0.460318\n",
      "\t1907 \t0.445894\n",
      "\t364  \t0.429082\n",
      "\t2081 \t0.425666\n",
      "\t3396 \t0.424741\n",
      "\t2761 \t0.404394\n",
      "Predict :     5\n",
      "Get Matrix :     5\n",
      "For User 1\n",
      "\t2028 \t5.401845\n",
      "\t527  \t5.349814\n",
      "\t2905 \t5.213385\n",
      "\t318  \t5.205211\n",
      "\t1193 \t5.194219\n",
      "\t3114 \t5.175394\n",
      "\t1    \t5.171426\n",
      "\t2019 \t5.103744\n",
      "\t1178 \t5.096276\n",
      "\t1207 \t5.090305\n",
      "For Item 1\n",
      "\t869  \t6.821550\n",
      "\t4086 \t6.266765\n",
      "\t549  \t6.239406\n",
      "\t1343 \t6.216308\n",
      "\t1586 \t6.039894\n",
      "\t840  \t5.961663\n",
      "\t1676 \t5.896234\n",
      "\t4595 \t5.889457\n",
      "\t2691 \t5.873509\n",
      "\t2665 \t5.849869\n"
     ]
    },
    {
     "name": "stderr",
     "output_type": "stream",
     "text": [
      "/Users/logan/anaconda/lib/python2.7/site-packages/pandas/io/parsers.py:648: ParserWarning: Falling back to the 'python' engine because the 'c' engine does not support regex separators; you can avoid this warning by specifying engine='python'.\n",
      "  ParserWarning)\n"
     ]
    }
   ],
   "source": [
    "lab14()"
   ]
  },
  {
   "cell_type": "code",
   "execution_count": 10,
   "metadata": {
    "collapsed": false
   },
   "outputs": [
    {
     "name": "stdout",
     "output_type": "stream",
     "text": [
      "Book Ratings 1149780\n",
      "<class 'pandas.core.frame.DataFrame'>\n",
      "Int64Index: 1149780 entries, 0 to 1149779\n",
      "Data columns (total 3 columns):\n",
      "User-ID        1149780 non-null int64\n",
      "ISBN           1149780 non-null object\n",
      "Book-Rating    1149780 non-null int64\n",
      "dtypes: int64(2), object(1)\n",
      "memory usage: 35.1+ MB\n",
      "None\n",
      "Users 278858\n",
      "<class 'pandas.core.frame.DataFrame'>\n",
      "Int64Index: 278858 entries, 0 to 278857\n",
      "Data columns (total 3 columns):\n",
      "User-ID     278858 non-null int64\n",
      "Location    278858 non-null object\n",
      "Age         168096 non-null float64\n",
      "dtypes: float64(1), int64(1), object(1)\n",
      "memory usage: 8.5+ MB\n",
      "None\n",
      "Books 271379\n",
      "<class 'pandas.core.frame.DataFrame'>\n",
      "Int64Index: 271379 entries, 0 to 271378\n",
      "Data columns (total 8 columns):\n",
      "ISBN                   271379 non-null object\n",
      "Book-Title             271379 non-null object\n",
      "Book-Author            271379 non-null object\n",
      "Year-Of-Publication    271379 non-null int64\n",
      "Publisher              271377 non-null object\n",
      "Image-URL-S            271379 non-null object\n",
      "Image-URL-M            271379 non-null object\n",
      "Image-URL-L            271379 non-null object\n",
      "dtypes: int64(1), object(7)\n",
      "memory usage: 18.6+ MB\n",
      "None\n"
     ]
    }
   ],
   "source": [
    "disp()"
   ]
  },
  {
   "cell_type": "code",
   "execution_count": 11,
   "metadata": {
    "collapsed": false
   },
   "outputs": [
    {
     "name": "stdout",
     "output_type": "stream",
     "text": [
      "['0060987529', '0375706771', '1400031354', '0064407667', '0385335881']\n"
     ]
    }
   ],
   "source": [
    "bookISBN(bookRatings, [\"0060987103\"], 5)"
   ]
  },
  {
   "cell_type": "code",
   "execution_count": 12,
   "metadata": {
    "collapsed": false
   },
   "outputs": [
    {
     "ename": "ValueError",
     "evalue": "Index contains duplicate entries, cannot reshape",
     "output_type": "error",
     "traceback": [
      "\u001b[0;31m---------------------------------------------------------------------------\u001b[0m",
      "\u001b[0;31mValueError\u001b[0m                                Traceback (most recent call last)",
      "\u001b[0;32m<ipython-input-12-ea2d6140c152>\u001b[0m in \u001b[0;36m<module>\u001b[0;34m()\u001b[0m\n\u001b[0;32m----> 1\u001b[0;31m \u001b[0mbookUSER\u001b[0m\u001b[0;34m(\u001b[0m\u001b[0mbookRatings\u001b[0m\u001b[0;34m,\u001b[0m \u001b[0;34m[\u001b[0m\u001b[0;36m11676\u001b[0m\u001b[0;34m]\u001b[0m\u001b[0;34m,\u001b[0m \u001b[0;36m5\u001b[0m\u001b[0;34m)\u001b[0m\u001b[0;34m\u001b[0m\u001b[0m\n\u001b[0m",
      "\u001b[0;32m<ipython-input-5-2723c98d7760>\u001b[0m in \u001b[0;36mbookUSER\u001b[0;34m(br, user, k)\u001b[0m\n\u001b[1;32m      4\u001b[0m     \u001b[0mdf\u001b[0m \u001b[0;34m=\u001b[0m \u001b[0mbr\u001b[0m\u001b[0;34m[\u001b[0m\u001b[0mbr\u001b[0m\u001b[0;34m[\u001b[0m\u001b[0;34m\"User-ID\"\u001b[0m\u001b[0;34m]\u001b[0m\u001b[0;34m.\u001b[0m\u001b[0misin\u001b[0m\u001b[0;34m(\u001b[0m\u001b[0mtop_n\u001b[0m\u001b[0;34m)\u001b[0m\u001b[0;34m]\u001b[0m\u001b[0;34m\u001b[0m\u001b[0m\n\u001b[1;32m      5\u001b[0m \u001b[0;34m\u001b[0m\u001b[0m\n\u001b[0;32m----> 6\u001b[0;31m     \u001b[0mdf_pivot\u001b[0m \u001b[0;34m=\u001b[0m \u001b[0mdf\u001b[0m\u001b[0;34m.\u001b[0m\u001b[0mpivot\u001b[0m\u001b[0;34m(\u001b[0m\u001b[0;34m\"User-ID\"\u001b[0m\u001b[0;34m,\u001b[0m \u001b[0;34m\"ISBN\"\u001b[0m\u001b[0;34m,\u001b[0m \u001b[0;34m\"Book-Rating\"\u001b[0m\u001b[0;34m)\u001b[0m\u001b[0;34m\u001b[0m\u001b[0m\n\u001b[0m\u001b[1;32m      7\u001b[0m     \u001b[0mdf_pivot\u001b[0m \u001b[0;34m=\u001b[0m \u001b[0mdf_pivot\u001b[0m\u001b[0;34m.\u001b[0m\u001b[0mfillna\u001b[0m\u001b[0;34m(\u001b[0m\u001b[0;36m0\u001b[0m\u001b[0;34m)\u001b[0m\u001b[0;34m\u001b[0m\u001b[0m\n\u001b[1;32m      8\u001b[0m \u001b[0;34m\u001b[0m\u001b[0m\n",
      "\u001b[0;32m/Users/logan/anaconda/lib/python2.7/site-packages/pandas/core/frame.pyc\u001b[0m in \u001b[0;36mpivot\u001b[0;34m(self, index, columns, values)\u001b[0m\n\u001b[1;32m   3507\u001b[0m         \"\"\"\n\u001b[1;32m   3508\u001b[0m         \u001b[0;32mfrom\u001b[0m \u001b[0mpandas\u001b[0m\u001b[0;34m.\u001b[0m\u001b[0mcore\u001b[0m\u001b[0;34m.\u001b[0m\u001b[0mreshape\u001b[0m \u001b[0;32mimport\u001b[0m \u001b[0mpivot\u001b[0m\u001b[0;34m\u001b[0m\u001b[0m\n\u001b[0;32m-> 3509\u001b[0;31m         \u001b[0;32mreturn\u001b[0m \u001b[0mpivot\u001b[0m\u001b[0;34m(\u001b[0m\u001b[0mself\u001b[0m\u001b[0;34m,\u001b[0m \u001b[0mindex\u001b[0m\u001b[0;34m=\u001b[0m\u001b[0mindex\u001b[0m\u001b[0;34m,\u001b[0m \u001b[0mcolumns\u001b[0m\u001b[0;34m=\u001b[0m\u001b[0mcolumns\u001b[0m\u001b[0;34m,\u001b[0m \u001b[0mvalues\u001b[0m\u001b[0;34m=\u001b[0m\u001b[0mvalues\u001b[0m\u001b[0;34m)\u001b[0m\u001b[0;34m\u001b[0m\u001b[0m\n\u001b[0m\u001b[1;32m   3510\u001b[0m \u001b[0;34m\u001b[0m\u001b[0m\n\u001b[1;32m   3511\u001b[0m     \u001b[0;32mdef\u001b[0m \u001b[0mstack\u001b[0m\u001b[0;34m(\u001b[0m\u001b[0mself\u001b[0m\u001b[0;34m,\u001b[0m \u001b[0mlevel\u001b[0m\u001b[0;34m=\u001b[0m\u001b[0;34m-\u001b[0m\u001b[0;36m1\u001b[0m\u001b[0;34m,\u001b[0m \u001b[0mdropna\u001b[0m\u001b[0;34m=\u001b[0m\u001b[0mTrue\u001b[0m\u001b[0;34m)\u001b[0m\u001b[0;34m:\u001b[0m\u001b[0;34m\u001b[0m\u001b[0m\n",
      "\u001b[0;32m/Users/logan/anaconda/lib/python2.7/site-packages/pandas/core/reshape.pyc\u001b[0m in \u001b[0;36mpivot\u001b[0;34m(self, index, columns, values)\u001b[0m\n\u001b[1;32m    326\u001b[0m                          index=MultiIndex.from_arrays([self[index],\n\u001b[1;32m    327\u001b[0m                                                        self[columns]]))\n\u001b[0;32m--> 328\u001b[0;31m         \u001b[0;32mreturn\u001b[0m \u001b[0mindexed\u001b[0m\u001b[0;34m.\u001b[0m\u001b[0munstack\u001b[0m\u001b[0;34m(\u001b[0m\u001b[0mcolumns\u001b[0m\u001b[0;34m)\u001b[0m\u001b[0;34m\u001b[0m\u001b[0m\n\u001b[0m\u001b[1;32m    329\u001b[0m \u001b[0;34m\u001b[0m\u001b[0m\n\u001b[1;32m    330\u001b[0m \u001b[0;34m\u001b[0m\u001b[0m\n",
      "\u001b[0;32m/Users/logan/anaconda/lib/python2.7/site-packages/pandas/core/series.pyc\u001b[0m in \u001b[0;36munstack\u001b[0;34m(self, level)\u001b[0m\n\u001b[1;32m   1955\u001b[0m         \"\"\"\n\u001b[1;32m   1956\u001b[0m         \u001b[0;32mfrom\u001b[0m \u001b[0mpandas\u001b[0m\u001b[0;34m.\u001b[0m\u001b[0mcore\u001b[0m\u001b[0;34m.\u001b[0m\u001b[0mreshape\u001b[0m \u001b[0;32mimport\u001b[0m \u001b[0munstack\u001b[0m\u001b[0;34m\u001b[0m\u001b[0m\n\u001b[0;32m-> 1957\u001b[0;31m         \u001b[0;32mreturn\u001b[0m \u001b[0munstack\u001b[0m\u001b[0;34m(\u001b[0m\u001b[0mself\u001b[0m\u001b[0;34m,\u001b[0m \u001b[0mlevel\u001b[0m\u001b[0;34m)\u001b[0m\u001b[0;34m\u001b[0m\u001b[0m\n\u001b[0m\u001b[1;32m   1958\u001b[0m \u001b[0;34m\u001b[0m\u001b[0m\n\u001b[1;32m   1959\u001b[0m     \u001b[0;31m#----------------------------------------------------------------------\u001b[0m\u001b[0;34m\u001b[0m\u001b[0;34m\u001b[0m\u001b[0m\n",
      "\u001b[0;32m/Users/logan/anaconda/lib/python2.7/site-packages/pandas/core/reshape.pyc\u001b[0m in \u001b[0;36munstack\u001b[0;34m(obj, level)\u001b[0m\n\u001b[1;32m    400\u001b[0m             \u001b[0;32mreturn\u001b[0m \u001b[0mobj\u001b[0m\u001b[0;34m.\u001b[0m\u001b[0mT\u001b[0m\u001b[0;34m.\u001b[0m\u001b[0mstack\u001b[0m\u001b[0;34m(\u001b[0m\u001b[0mdropna\u001b[0m\u001b[0;34m=\u001b[0m\u001b[0mFalse\u001b[0m\u001b[0;34m)\u001b[0m\u001b[0;34m\u001b[0m\u001b[0m\n\u001b[1;32m    401\u001b[0m     \u001b[0;32melse\u001b[0m\u001b[0;34m:\u001b[0m\u001b[0;34m\u001b[0m\u001b[0m\n\u001b[0;32m--> 402\u001b[0;31m         \u001b[0munstacker\u001b[0m \u001b[0;34m=\u001b[0m \u001b[0m_Unstacker\u001b[0m\u001b[0;34m(\u001b[0m\u001b[0mobj\u001b[0m\u001b[0;34m.\u001b[0m\u001b[0mvalues\u001b[0m\u001b[0;34m,\u001b[0m \u001b[0mobj\u001b[0m\u001b[0;34m.\u001b[0m\u001b[0mindex\u001b[0m\u001b[0;34m,\u001b[0m \u001b[0mlevel\u001b[0m\u001b[0;34m=\u001b[0m\u001b[0mlevel\u001b[0m\u001b[0;34m)\u001b[0m\u001b[0;34m\u001b[0m\u001b[0m\n\u001b[0m\u001b[1;32m    403\u001b[0m         \u001b[0;32mreturn\u001b[0m \u001b[0munstacker\u001b[0m\u001b[0;34m.\u001b[0m\u001b[0mget_result\u001b[0m\u001b[0;34m(\u001b[0m\u001b[0;34m)\u001b[0m\u001b[0;34m\u001b[0m\u001b[0m\n\u001b[1;32m    404\u001b[0m \u001b[0;34m\u001b[0m\u001b[0m\n",
      "\u001b[0;32m/Users/logan/anaconda/lib/python2.7/site-packages/pandas/core/reshape.pyc\u001b[0m in \u001b[0;36m__init__\u001b[0;34m(self, values, index, level, value_columns)\u001b[0m\n\u001b[1;32m     96\u001b[0m \u001b[0;34m\u001b[0m\u001b[0m\n\u001b[1;32m     97\u001b[0m         \u001b[0mself\u001b[0m\u001b[0;34m.\u001b[0m\u001b[0m_make_sorted_values_labels\u001b[0m\u001b[0;34m(\u001b[0m\u001b[0;34m)\u001b[0m\u001b[0;34m\u001b[0m\u001b[0m\n\u001b[0;32m---> 98\u001b[0;31m         \u001b[0mself\u001b[0m\u001b[0;34m.\u001b[0m\u001b[0m_make_selectors\u001b[0m\u001b[0;34m(\u001b[0m\u001b[0;34m)\u001b[0m\u001b[0;34m\u001b[0m\u001b[0m\n\u001b[0m\u001b[1;32m     99\u001b[0m \u001b[0;34m\u001b[0m\u001b[0m\n\u001b[1;32m    100\u001b[0m     \u001b[0;32mdef\u001b[0m \u001b[0m_make_sorted_values_labels\u001b[0m\u001b[0;34m(\u001b[0m\u001b[0mself\u001b[0m\u001b[0;34m)\u001b[0m\u001b[0;34m:\u001b[0m\u001b[0;34m\u001b[0m\u001b[0m\n",
      "\u001b[0;32m/Users/logan/anaconda/lib/python2.7/site-packages/pandas/core/reshape.pyc\u001b[0m in \u001b[0;36m_make_selectors\u001b[0;34m(self)\u001b[0m\n\u001b[1;32m    134\u001b[0m \u001b[0;34m\u001b[0m\u001b[0m\n\u001b[1;32m    135\u001b[0m         \u001b[0;32mif\u001b[0m \u001b[0mmask\u001b[0m\u001b[0;34m.\u001b[0m\u001b[0msum\u001b[0m\u001b[0;34m(\u001b[0m\u001b[0;34m)\u001b[0m \u001b[0;34m<\u001b[0m \u001b[0mlen\u001b[0m\u001b[0;34m(\u001b[0m\u001b[0mself\u001b[0m\u001b[0;34m.\u001b[0m\u001b[0mindex\u001b[0m\u001b[0;34m)\u001b[0m\u001b[0;34m:\u001b[0m\u001b[0;34m\u001b[0m\u001b[0m\n\u001b[0;32m--> 136\u001b[0;31m             raise ValueError('Index contains duplicate entries, '\n\u001b[0m\u001b[1;32m    137\u001b[0m                              'cannot reshape')\n\u001b[1;32m    138\u001b[0m \u001b[0;34m\u001b[0m\u001b[0m\n",
      "\u001b[0;31mValueError\u001b[0m: Index contains duplicate entries, cannot reshape"
     ]
    }
   ],
   "source": [
    "bookUSER(bookRatings, [11676], 5)"
   ]
  },
  {
   "cell_type": "code",
   "execution_count": 13,
   "metadata": {
    "collapsed": false
   },
   "outputs": [
    {
     "name": "stdout",
     "output_type": "stream",
     "text": [
      "Loading nBX-Book-Ratings.csv\n",
      "..........|.\n",
      "Creating matrix (1149780 tuples)\n",
      "Matrix density is: 0.0012%\n",
      "Updating matrix: squish to at least 10 values\n",
      "Computing svd k=100, min_values=10, pre_normalize=None, mean_center=True, post_normalize=True\n",
      "[WARNING] mean_center is True. svd.similar(...) might return nan's. If so, then do svd.compute(..., mean_center=False)\n",
      "Saving svd model to /tmp/booklens\n",
      "385504209        The Da Vinci Code\n",
      "446611778        Last Man Standing\n",
      "394900014        Cat in the Hat (I Can Read It All by Myself Be...\n",
      "193156146X       The Time Traveler's Wife\n",
      "394800184        Are You My Mother?\n",
      "743454529        My Sister's Keeper : A Novel (Picoult, Jodi)\n",
      "006440188X       The Secret Garden\n"
     ]
    }
   ],
   "source": [
    "recommend(11676)"
   ]
  },
  {
   "cell_type": "code",
   "execution_count": 14,
   "metadata": {
    "collapsed": false
   },
   "outputs": [
    {
     "name": "stdout",
     "output_type": "stream",
     "text": [
      " usa                                              139188\n",
      " canada                                            21558\n",
      " united kingdom                                    18304\n",
      " germany                                           17052\n",
      " spain                                             13205\n",
      " australia                                         11724\n",
      " italy                                             11247\n",
      "                                                    4608\n",
      " france                                             3474\n",
      " portugal                                           3371\n"
     ]
    }
   ],
   "source": [
    "location()"
   ]
  }
 ],
 "metadata": {
  "kernelspec": {
   "display_name": "Python 2",
   "language": "python",
   "name": "python2"
  },
  "language_info": {
   "codemirror_mode": {
    "name": "ipython",
    "version": 2
   },
   "file_extension": ".py",
   "mimetype": "text/x-python",
   "name": "python",
   "nbconvert_exporter": "python",
   "pygments_lexer": "ipython2",
   "version": "2.7.10"
  }
 },
 "nbformat": 4,
 "nbformat_minor": 0
}
