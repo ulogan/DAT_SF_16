{
 "cells": [
  {
   "cell_type": "code",
   "execution_count": 1,
   "metadata": {
    "collapsed": true
   },
   "outputs": [],
   "source": [
    "import pandas as pd;\n"
   ]
  },
  {
   "cell_type": "code",
   "execution_count": 8,
   "metadata": {
    "collapsed": false
   },
   "outputs": [],
   "source": [
    "df = pd.read_csv(\"carAccidents2011.csv\", header = 0);"
   ]
  },
  {
   "cell_type": "code",
   "execution_count": 9,
   "metadata": {
    "collapsed": false
   },
   "outputs": [
    {
     "name": "stdout",
     "output_type": "stream",
     "text": [
      "                     State Atmospheric Condition  Crash Date  \\\n",
      "0                   Alaska                 Clear  2011-01-05   \n",
      "1                   Alaska                 Clear  2011-01-05   \n",
      "2                  Arizona                 Clear  2011-01-01   \n",
      "3                  Arizona                 Clear  2011-01-01   \n",
      "4                  Arizona                 Clear  2011-01-01   \n",
      "5                 Arkansas                 Clear  2011-01-02   \n",
      "6                 Colorado                 Clear  2011-01-02   \n",
      "7              Connecticut                 Clear  2011-01-01   \n",
      "8                 Delaware                Cloudy  2011-01-04   \n",
      "9                 Delaware                Cloudy  2011-01-04   \n",
      "10    District of Columbia                 Clear  2011-01-14   \n",
      "11    District of Columbia                 Clear  2011-01-14   \n",
      "12                 Florida                  Rain  2011-01-01   \n",
      "13                 Florida                  Rain  2011-01-01   \n",
      "14                 Georgia      Fog, Smog, Smoke  2011-01-01   \n",
      "15                 Georgia      Fog, Smog, Smoke  2011-01-01   \n",
      "16                  Hawaii                 Clear  2011-01-01   \n",
      "17                  Hawaii                 Clear  2011-01-01   \n",
      "18                  Hawaii                 Clear  2011-01-01   \n",
      "19                   Idaho                 Clear  2011-01-02   \n",
      "20                   Idaho                 Clear  2011-01-02   \n",
      "21                   Idaho                 Clear  2011-01-02   \n",
      "22                Illinois                 Clear  2011-01-01   \n",
      "23                 Indiana                  Rain  2011-01-01   \n",
      "24                  Kansas                 Clear  2011-01-02   \n",
      "25                  Kansas                 Clear  2011-01-02   \n",
      "26                Kentucky                 Clear  2011-01-01   \n",
      "27                Kentucky                 Clear  2011-01-01   \n",
      "28                Kentucky                 Clear  2011-01-01   \n",
      "29                Kentucky                 Clear  2011-01-01   \n",
      "...                    ...                   ...         ...   \n",
      "4969              Arkansas                  Rain  2011-03-08   \n",
      "4970              Delaware                 Clear  2011-09-26   \n",
      "4971               Georgia                 Clear  2011-01-29   \n",
      "4972               Georgia                 Clear  2011-01-29   \n",
      "4973                Hawaii                Cloudy  2011-09-11   \n",
      "4974                Hawaii                Cloudy  2011-09-11   \n",
      "4975              Illinois                 Clear  2011-02-19   \n",
      "4976               Indiana                 Clear  2011-02-18   \n",
      "4977                Kansas                 Clear  2011-03-18   \n",
      "4978                Kansas                 Clear  2011-03-18   \n",
      "4979              Kentucky                Cloudy  2011-02-18   \n",
      "4980              Kentucky                Cloudy  2011-02-18   \n",
      "4981              Maryland                 Clear  2011-03-25   \n",
      "4982              Maryland                 Clear  2011-03-25   \n",
      "4983              Maryland                 Clear  2011-03-25   \n",
      "4984         Massachusetts                  Snow  2011-02-24   \n",
      "4985         Massachusetts                  Snow  2011-02-24   \n",
      "4986           Mississippi                 Clear  2011-02-19   \n",
      "4987           Mississippi                 Clear  2011-02-19   \n",
      "4988              Nebraska                 Clear  2011-06-23   \n",
      "4989                Nevada                 Clear  2011-05-08   \n",
      "4990                Nevada                 Clear  2011-05-08   \n",
      "4991                Nevada                 Clear  2011-05-08   \n",
      "4992         New Hampshire                 Clear  2011-11-15   \n",
      "4993         New Hampshire                 Clear  2011-11-15   \n",
      "4994            New Jersey                 Clear  2011-01-31   \n",
      "4995              New York                  Snow  2011-01-21   \n",
      "4996        North Carolina                 Clear  2011-01-16   \n",
      "4997          North Dakota                 Clear  2011-08-27   \n",
      "4998                  Ohio                  Rain  2011-03-05   \n",
      "\n",
      "      Fatalities in crash                              Roadway  Age  \\\n",
      "0                       1  Rural-Principal Arterial-Interstate   27   \n",
      "1                       1  Rural-Principal Arterial-Interstate   60   \n",
      "2                       1       Urban-Other Principal Arterial   24   \n",
      "3                       1       Urban-Other Principal Arterial   27   \n",
      "4                       1       Urban-Other Principal Arterial   82   \n",
      "5                       1                 Rural-Minor Arterial   40   \n",
      "6                       1           Rural-Local Road or Street   17   \n",
      "7                       1           Urban-Local Road or Street   22   \n",
      "8                       1       Urban-Other Principal Arterial    4   \n",
      "9                       1       Urban-Other Principal Arterial   20   \n",
      "10                      2           Urban-Local Road or Street   20   \n",
      "11                      2           Urban-Local Road or Street   31   \n",
      "12                      1                 Urban-Minor Arterial    5   \n",
      "13                      1                 Urban-Minor Arterial   70   \n",
      "14                      1           Urban-Local Road or Street   23   \n",
      "15                      1           Urban-Local Road or Street   24   \n",
      "16                      2                 Rural-Minor Arterial    0   \n",
      "17                      2                 Rural-Minor Arterial   19   \n",
      "18                      2                 Rural-Minor Arterial   26   \n",
      "19                      1  Rural-Principal Arterial-Interstate   22   \n",
      "20                      1  Rural-Principal Arterial-Interstate   23   \n",
      "21                      1  Rural-Principal Arterial-Interstate   25   \n",
      "22                      1                 Urban-Minor Arterial   27   \n",
      "23                      1           Rural-Local Road or Street   25   \n",
      "24                      2       Rural-Principal Arterial-Other   25   \n",
      "25                      2       Rural-Principal Arterial-Other   61   \n",
      "26                      2       Urban-Other Principal Arterial    7   \n",
      "27                      2       Urban-Other Principal Arterial   18   \n",
      "28                      2       Urban-Other Principal Arterial   20   \n",
      "29                      2       Urban-Other Principal Arterial   28   \n",
      "...                   ...                                  ...  ...   \n",
      "4969                    1       Urban-Other Principal Arterial   52   \n",
      "4970                    1                 Urban-Minor Arterial   39   \n",
      "4971                    1           Rural-Local Road or Street   45   \n",
      "4972                    1           Rural-Local Road or Street   49   \n",
      "4973                    1       Urban-Other Principal Arterial   25   \n",
      "4974                    1       Urban-Other Principal Arterial   65   \n",
      "4975                    2  Urban-Principal Arterial-Interstate    9   \n",
      "4976                    1                      Urban-Collector   93   \n",
      "4977                    1       Rural-Principal Arterial-Other   16   \n",
      "4978                    1       Rural-Principal Arterial-Other   26   \n",
      "4979                    1                 Rural-Minor Arterial   40   \n",
      "4980                    1                 Rural-Minor Arterial   66   \n",
      "4981                    1       Urban-Other Principal Arterial   51   \n",
      "4982                    1       Urban-Other Principal Arterial   51   \n",
      "4983                    1       Urban-Other Principal Arterial   56   \n",
      "4984                    2  Urban-Principal Arterial-Interstate   17   \n",
      "4985                    2  Urban-Principal Arterial-Interstate   18   \n",
      "4986                    1           Urban-Local Road or Street   23   \n",
      "4987                    1           Urban-Local Road or Street   49   \n",
      "4988                    1       Urban-Other Principal Arterial   49   \n",
      "4989                    2  Rural-Principal Arterial-Interstate    1   \n",
      "4990                    2  Rural-Principal Arterial-Interstate   32   \n",
      "4991                    2  Rural-Principal Arterial-Interstate   45   \n",
      "4992                    1           Rural-Local Road or Street   21   \n",
      "4993                    1           Rural-Local Road or Street   24   \n",
      "4994                    1                 Urban-Minor Arterial   44   \n",
      "4995                    1                 Urban-Minor Arterial   30   \n",
      "4996                    1       Urban-Other Principal Arterial   81   \n",
      "4997                    1       Urban-Other Principal Arterial   50   \n",
      "4998                    1                Rural-Minor Collector   24   \n",
      "\n",
      "      Alcohol Results                                Person Type  \\\n",
      "0                0.00     Driver of a Motor Vehicle In-Transport   \n",
      "1                0.00     Driver of a Motor Vehicle In-Transport   \n",
      "2                 NaN  Passenger of a Motor Vehicle In-Transport   \n",
      "3                0.00     Driver of a Motor Vehicle In-Transport   \n",
      "4                0.00                                 Pedestrian   \n",
      "5                0.00     Driver of a Motor Vehicle In-Transport   \n",
      "6                0.00     Driver of a Motor Vehicle In-Transport   \n",
      "7                0.21     Driver of a Motor Vehicle In-Transport   \n",
      "8                 NaN  Passenger of a Motor Vehicle In-Transport   \n",
      "9                0.21     Driver of a Motor Vehicle In-Transport   \n",
      "10                NaN     Driver of a Motor Vehicle In-Transport   \n",
      "11               0.10     Driver of a Motor Vehicle In-Transport   \n",
      "12                NaN  Passenger of a Motor Vehicle In-Transport   \n",
      "13                NaN     Driver of a Motor Vehicle In-Transport   \n",
      "14                NaN  Passenger of a Motor Vehicle In-Transport   \n",
      "15               0.03     Driver of a Motor Vehicle In-Transport   \n",
      "16                NaN  Passenger of a Motor Vehicle In-Transport   \n",
      "17                NaN  Passenger of a Motor Vehicle In-Transport   \n",
      "18                NaN     Driver of a Motor Vehicle In-Transport   \n",
      "19               0.00     Driver of a Motor Vehicle In-Transport   \n",
      "20                NaN  Passenger of a Motor Vehicle In-Transport   \n",
      "21                NaN  Passenger of a Motor Vehicle In-Transport   \n",
      "22               0.00     Driver of a Motor Vehicle In-Transport   \n",
      "23               0.09     Driver of a Motor Vehicle In-Transport   \n",
      "24                NaN     Driver of a Motor Vehicle In-Transport   \n",
      "25               0.00     Driver of a Motor Vehicle In-Transport   \n",
      "26                NaN  Passenger of a Motor Vehicle In-Transport   \n",
      "27               0.00  Passenger of a Motor Vehicle In-Transport   \n",
      "28                NaN  Passenger of a Motor Vehicle In-Transport   \n",
      "29               0.12     Driver of a Motor Vehicle In-Transport   \n",
      "...               ...                                        ...   \n",
      "4969             0.00     Driver of a Motor Vehicle In-Transport   \n",
      "4970              NaN     Driver of a Motor Vehicle In-Transport   \n",
      "4971              NaN  Passenger of a Motor Vehicle In-Transport   \n",
      "4972             0.28     Driver of a Motor Vehicle In-Transport   \n",
      "4973             0.00     Driver of a Motor Vehicle In-Transport   \n",
      "4974              NaN  Passenger of a Motor Vehicle In-Transport   \n",
      "4975              NaN  Passenger of a Motor Vehicle In-Transport   \n",
      "4976             0.00     Driver of a Motor Vehicle In-Transport   \n",
      "4977             0.00     Driver of a Motor Vehicle In-Transport   \n",
      "4978              NaN     Driver of a Motor Vehicle In-Transport   \n",
      "4979              NaN  Passenger of a Motor Vehicle In-Transport   \n",
      "4980              NaN  Passenger of a Motor Vehicle In-Transport   \n",
      "4981             0.14     Driver of a Motor Vehicle In-Transport   \n",
      "4982              NaN     Driver of a Motor Vehicle In-Transport   \n",
      "4983              NaN     Driver of a Motor Vehicle In-Transport   \n",
      "4984             0.00  Passenger of a Motor Vehicle In-Transport   \n",
      "4985              NaN  Passenger of a Motor Vehicle In-Transport   \n",
      "4986              NaN                                 Pedestrian   \n",
      "4987              NaN     Driver of a Motor Vehicle In-Transport   \n",
      "4988              NaN     Driver of a Motor Vehicle In-Transport   \n",
      "4989              NaN  Passenger of a Motor Vehicle In-Transport   \n",
      "4990              NaN     Driver of a Motor Vehicle In-Transport   \n",
      "4991              NaN  Passenger of a Motor Vehicle In-Transport   \n",
      "4992             0.00     Driver of a Motor Vehicle In-Transport   \n",
      "4993              NaN  Passenger of a Motor Vehicle In-Transport   \n",
      "4994              NaN     Driver of a Motor Vehicle In-Transport   \n",
      "4995              NaN     Driver of a Motor Vehicle In-Transport   \n",
      "4996              NaN     Driver of a Motor Vehicle In-Transport   \n",
      "4997             0.13     Driver of a Motor Vehicle In-Transport   \n",
      "4998             0.26     Driver of a Motor Vehicle In-Transport   \n",
      "\n",
      "     Drug Involvement     Race  Gender                        Injury Severity  \\\n",
      "0                 Yes      NaN    Male  Non-incapacitating Evident Injury (B)   \n",
      "1                  No    White  Female                       Fatal Injury (K)   \n",
      "2        Not Reported      NaN  Female                          No Injury (O)   \n",
      "3                  No      NaN    Male                          No Injury (O)   \n",
      "4                  No  Unknown  Female                       Fatal Injury (K)   \n",
      "5        Not Reported    White    Male                       Fatal Injury (K)   \n",
      "6                  No    White  Female                       Fatal Injury (K)   \n",
      "7        Not Reported    White    Male                       Fatal Injury (K)   \n",
      "8        Not Reported      NaN  Female  Non-incapacitating Evident Injury (B)   \n",
      "9                 Yes    White    Male                       Fatal Injury (K)   \n",
      "10       Not Reported      NaN    Male  Non-incapacitating Evident Injury (B)   \n",
      "11                 No    White    Male                       Fatal Injury (K)   \n",
      "12       Not Reported      NaN    Male  Non-incapacitating Evident Injury (B)   \n",
      "13       Not Reported    White  Female                       Fatal Injury (K)   \n",
      "14       Not Reported      NaN    Male              Incapacitating Injury (A)   \n",
      "15            Unknown    Black    Male                       Fatal Injury (K)   \n",
      "16       Not Reported      NaN  Female                          No Injury (O)   \n",
      "17       Not Reported      NaN  Female  Non-incapacitating Evident Injury (B)   \n",
      "18       Not Reported      NaN    Male  Non-incapacitating Evident Injury (B)   \n",
      "19                 No      NaN  Female  Non-incapacitating Evident Injury (B)   \n",
      "20       Not Reported    Black  Female                       Fatal Injury (K)   \n",
      "21       Not Reported      NaN    Male  Non-incapacitating Evident Injury (B)   \n",
      "22       Not Reported    White    Male                       Fatal Injury (K)   \n",
      "23                Yes    Black    Male                       Fatal Injury (K)   \n",
      "24                 No      NaN  Female  Non-incapacitating Evident Injury (B)   \n",
      "25                 No    White    Male                       Fatal Injury (K)   \n",
      "26       Not Reported      NaN  Female  Non-incapacitating Evident Injury (B)   \n",
      "27       Not Reported    White    Male                       Fatal Injury (K)   \n",
      "28       Not Reported      NaN    Male  Non-incapacitating Evident Injury (B)   \n",
      "29       Not Reported    White    Male                       Fatal Injury (K)   \n",
      "...               ...      ...     ...                                    ...   \n",
      "4969               No      NaN    Male              Incapacitating Injury (A)   \n",
      "4970     Not Reported      NaN  Female                          No Injury (O)   \n",
      "4971               No      NaN  Female                    Possible Injury (C)   \n",
      "4972               No    White    Male                       Fatal Injury (K)   \n",
      "4973          Unknown    White    Male                       Fatal Injury (K)   \n",
      "4974     Not Reported      NaN  Female                          No Injury (O)   \n",
      "4975               No      NaN  Female              Incapacitating Injury (A)   \n",
      "4976               No    White    Male                       Fatal Injury (K)   \n",
      "4977               No      NaN    Male              Incapacitating Injury (A)   \n",
      "4978               No      NaN  Female  Non-incapacitating Evident Injury (B)   \n",
      "4979     Not Reported      NaN    Male  Non-incapacitating Evident Injury (B)   \n",
      "4980     Not Reported    White    Male                       Fatal Injury (K)   \n",
      "4981     Not Reported    White    Male                       Fatal Injury (K)   \n",
      "4982               No      NaN    Male  Non-incapacitating Evident Injury (B)   \n",
      "4983               No      NaN    Male  Non-incapacitating Evident Injury (B)   \n",
      "4984     Not Reported    White    Male                       Fatal Injury (K)   \n",
      "4985     Not Reported      NaN    Male  Non-incapacitating Evident Injury (B)   \n",
      "4986               No    White    Male                       Fatal Injury (K)   \n",
      "4987               No      NaN    Male                          No Injury (O)   \n",
      "4988               No      NaN  Female                          No Injury (O)   \n",
      "4989     Not Reported      NaN  Female                    Possible Injury (C)   \n",
      "4990               No      NaN    Male                    Possible Injury (C)   \n",
      "4991     Not Reported      NaN    Male                    Possible Injury (C)   \n",
      "4992              Yes    White    Male                       Fatal Injury (K)   \n",
      "4993     Not Reported      NaN    Male                          No Injury (O)   \n",
      "4994     Not Reported      NaN    Male  Non-incapacitating Evident Injury (B)   \n",
      "4995     Not Reported      NaN  Female                          No Injury (O)   \n",
      "4996               No      NaN  Female                    Possible Injury (C)   \n",
      "4997          Unknown    White    Male                       Fatal Injury (K)   \n",
      "4998               No    White    Male                       Fatal Injury (K)   \n",
      "\n",
      "      Crash Date.year  Crash Date.month  Crash Date.day-of-month  \\\n",
      "0                2011                 1                        5   \n",
      "1                2011                 1                        5   \n",
      "2                2011                 1                        1   \n",
      "3                2011                 1                        1   \n",
      "4                2011                 1                        1   \n",
      "5                2011                 1                        2   \n",
      "6                2011                 1                        2   \n",
      "7                2011                 1                        1   \n",
      "8                2011                 1                        4   \n",
      "9                2011                 1                        4   \n",
      "10               2011                 1                       14   \n",
      "11               2011                 1                       14   \n",
      "12               2011                 1                        1   \n",
      "13               2011                 1                        1   \n",
      "14               2011                 1                        1   \n",
      "15               2011                 1                        1   \n",
      "16               2011                 1                        1   \n",
      "17               2011                 1                        1   \n",
      "18               2011                 1                        1   \n",
      "19               2011                 1                        2   \n",
      "20               2011                 1                        2   \n",
      "21               2011                 1                        2   \n",
      "22               2011                 1                        1   \n",
      "23               2011                 1                        1   \n",
      "24               2011                 1                        2   \n",
      "25               2011                 1                        2   \n",
      "26               2011                 1                        1   \n",
      "27               2011                 1                        1   \n",
      "28               2011                 1                        1   \n",
      "29               2011                 1                        1   \n",
      "...               ...               ...                      ...   \n",
      "4969             2011                 3                        8   \n",
      "4970             2011                 9                       26   \n",
      "4971             2011                 1                       29   \n",
      "4972             2011                 1                       29   \n",
      "4973             2011                 9                       11   \n",
      "4974             2011                 9                       11   \n",
      "4975             2011                 2                       19   \n",
      "4976             2011                 2                       18   \n",
      "4977             2011                 3                       18   \n",
      "4978             2011                 3                       18   \n",
      "4979             2011                 2                       18   \n",
      "4980             2011                 2                       18   \n",
      "4981             2011                 3                       25   \n",
      "4982             2011                 3                       25   \n",
      "4983             2011                 3                       25   \n",
      "4984             2011                 2                       24   \n",
      "4985             2011                 2                       24   \n",
      "4986             2011                 2                       19   \n",
      "4987             2011                 2                       19   \n",
      "4988             2011                 6                       23   \n",
      "4989             2011                 5                        8   \n",
      "4990             2011                 5                        8   \n",
      "4991             2011                 5                        8   \n",
      "4992             2011                11                       15   \n",
      "4993             2011                11                       15   \n",
      "4994             2011                 1                       31   \n",
      "4995             2011                 1                       21   \n",
      "4996             2011                 1                       16   \n",
      "4997             2011                 8                       27   \n",
      "4998             2011                 3                        5   \n",
      "\n",
      "      Crash Date.day-of-week  \n",
      "0                          3  \n",
      "1                          3  \n",
      "2                          6  \n",
      "3                          6  \n",
      "4                          6  \n",
      "5                          7  \n",
      "6                          7  \n",
      "7                          6  \n",
      "8                          2  \n",
      "9                          2  \n",
      "10                         5  \n",
      "11                         5  \n",
      "12                         6  \n",
      "13                         6  \n",
      "14                         6  \n",
      "15                         6  \n",
      "16                         6  \n",
      "17                         6  \n",
      "18                         6  \n",
      "19                         7  \n",
      "20                         7  \n",
      "21                         7  \n",
      "22                         6  \n",
      "23                         6  \n",
      "24                         7  \n",
      "25                         7  \n",
      "26                         6  \n",
      "27                         6  \n",
      "28                         6  \n",
      "29                         6  \n",
      "...                      ...  \n",
      "4969                       2  \n",
      "4970                       1  \n",
      "4971                       6  \n",
      "4972                       6  \n",
      "4973                       7  \n",
      "4974                       7  \n",
      "4975                       6  \n",
      "4976                       5  \n",
      "4977                       5  \n",
      "4978                       5  \n",
      "4979                       5  \n",
      "4980                       5  \n",
      "4981                       5  \n",
      "4982                       5  \n",
      "4983                       5  \n",
      "4984                       4  \n",
      "4985                       4  \n",
      "4986                       6  \n",
      "4987                       6  \n",
      "4988                       4  \n",
      "4989                       7  \n",
      "4990                       7  \n",
      "4991                       7  \n",
      "4992                       2  \n",
      "4993                       2  \n",
      "4994                       1  \n",
      "4995                       5  \n",
      "4996                       7  \n",
      "4997                       6  \n",
      "4998                       6  \n",
      "\n",
      "[4999 rows x 16 columns]\n"
     ]
    }
   ],
   "source": [
    "print(df)"
   ]
  },
  {
   "cell_type": "code",
   "execution_count": 11,
   "metadata": {
    "collapsed": false
   },
   "outputs": [
    {
     "name": "stdout",
     "output_type": "stream",
     "text": [
      "[None]\n"
     ]
    }
   ],
   "source": [
    "print list(df.columns.names);"
   ]
  },
  {
   "cell_type": "raw",
   "metadata": {},
   "source": []
  },
  {
   "cell_type": "code",
   "execution_count": 12,
   "metadata": {
    "collapsed": false
   },
   "outputs": [
    {
     "name": "stdout",
     "output_type": "stream",
     "text": [
      "4999\n"
     ]
    }
   ],
   "source": [
    "print len(df);"
   ]
  },
  {
   "cell_type": "code",
   "execution_count": 15,
   "metadata": {
    "collapsed": false
   },
   "outputs": [
    {
     "name": "stdout",
     "output_type": "stream",
     "text": [
      "State                                                      Alaska\n",
      "Atmospheric Condition                                       Clear\n",
      "Crash Date                                             2011-01-05\n",
      "Fatalities in crash                                             1\n",
      "Roadway                       Rural-Principal Arterial-Interstate\n",
      "Age                                                            27\n",
      "Alcohol Results                                                 0\n",
      "Person Type                Driver of a Motor Vehicle In-Transport\n",
      "Drug Involvement                                              Yes\n",
      "Race                                                          NaN\n",
      "Gender                                                       Male\n",
      "Injury Severity             Non-incapacitating Evident Injury (B)\n",
      "Crash Date.year                                              2011\n",
      "Crash Date.month                                                1\n",
      "Crash Date.day-of-month                                         5\n",
      "Crash Date.day-of-week                                          3\n",
      "Name: 0, dtype: object\n"
     ]
    }
   ],
   "source": [
    "print df.iloc[0];"
   ]
  },
  {
   "cell_type": "code",
   "execution_count": 17,
   "metadata": {
    "collapsed": false
   },
   "outputs": [
    {
     "name": "stdout",
     "output_type": "stream",
     "text": [
      "5455\n"
     ]
    }
   ],
   "source": [
    "print df.isnull().values.sum();"
   ]
  },
  {
   "cell_type": "code",
   "execution_count": 18,
   "metadata": {
    "collapsed": false
   },
   "outputs": [
    {
     "name": "stdout",
     "output_type": "stream",
     "text": [
      "0\n"
     ]
    }
   ],
   "source": [
    "print df[\"State\"].isnull().values.sum();"
   ]
  },
  {
   "cell_type": "code",
   "execution_count": 19,
   "metadata": {
    "collapsed": false
   },
   "outputs": [
    {
     "name": "stdout",
     "output_type": "stream",
     "text": [
      "0\n"
     ]
    }
   ],
   "source": [
    "print df[\"Atmospheric Condition\"].isnull().values.sum();"
   ]
  },
  {
   "cell_type": "code",
   "execution_count": 20,
   "metadata": {
    "collapsed": false
   },
   "outputs": [
    {
     "name": "stdout",
     "output_type": "stream",
     "text": [
      "0\n"
     ]
    }
   ],
   "source": [
    "print df[\"Crash Date\"].isnull().values.sum();"
   ]
  },
  {
   "cell_type": "code",
   "execution_count": 21,
   "metadata": {
    "collapsed": false
   },
   "outputs": [
    {
     "name": "stdout",
     "output_type": "stream",
     "text": [
      "0\n"
     ]
    }
   ],
   "source": [
    "print df[\"Fatalities in crash\"].isnull().values.sum();"
   ]
  },
  {
   "cell_type": "code",
   "execution_count": 22,
   "metadata": {
    "collapsed": false
   },
   "outputs": [
    {
     "name": "stdout",
     "output_type": "stream",
     "text": [
      "0\n"
     ]
    }
   ],
   "source": [
    "print df[\"Roadway\"].isnull().values.sum();"
   ]
  },
  {
   "cell_type": "code",
   "execution_count": 23,
   "metadata": {
    "collapsed": false
   },
   "outputs": [
    {
     "name": "stdout",
     "output_type": "stream",
     "text": [
      "State                                                      Alaska\n",
      "Atmospheric Condition                                       Clear\n",
      "Crash Date                                             2011-01-05\n",
      "Fatalities in crash                                             1\n",
      "Roadway                       Rural-Principal Arterial-Interstate\n",
      "Age                                                            27\n",
      "Alcohol Results                                                 0\n",
      "Person Type                Driver of a Motor Vehicle In-Transport\n",
      "Drug Involvement                                              Yes\n",
      "Race                                                          NaN\n",
      "Gender                                                       Male\n",
      "Injury Severity             Non-incapacitating Evident Injury (B)\n",
      "Crash Date.year                                              2011\n",
      "Crash Date.month                                                1\n",
      "Crash Date.day-of-month                                         5\n",
      "Crash Date.day-of-week                                          3\n",
      "Name: 0, dtype: object\n"
     ]
    }
   ],
   "source": [
    "print df.iloc[0];"
   ]
  },
  {
   "cell_type": "code",
   "execution_count": 24,
   "metadata": {
    "collapsed": false
   },
   "outputs": [
    {
     "name": "stdout",
     "output_type": "stream",
     "text": [
      "70\n"
     ]
    }
   ],
   "source": [
    "print df[\"Age\"].isnull().values.sum();"
   ]
  },
  {
   "cell_type": "code",
   "execution_count": 25,
   "metadata": {
    "collapsed": false
   },
   "outputs": [
    {
     "name": "stdout",
     "output_type": "stream",
     "text": [
      "2679\n"
     ]
    }
   ],
   "source": [
    "print df[\"Race\"].isnull().values.sum();"
   ]
  },
  {
   "cell_type": "code",
   "execution_count": 26,
   "metadata": {
    "collapsed": false
   },
   "outputs": [
    {
     "name": "stdout",
     "output_type": "stream",
     "text": [
      "2706\n"
     ]
    }
   ],
   "source": [
    "print df[\"Alcohol Results\"].isnull().values.sum();"
   ]
  },
  {
   "cell_type": "code",
   "execution_count": 27,
   "metadata": {
    "collapsed": false
   },
   "outputs": [
    {
     "name": "stdout",
     "output_type": "stream",
     "text": [
      "0       Non-incapacitating Evident Injury (B)\n",
      "1                            Fatal Injury (K)\n",
      "2                               No Injury (O)\n",
      "3                               No Injury (O)\n",
      "4                            Fatal Injury (K)\n",
      "5                            Fatal Injury (K)\n",
      "6                            Fatal Injury (K)\n",
      "7                            Fatal Injury (K)\n",
      "8       Non-incapacitating Evident Injury (B)\n",
      "9                            Fatal Injury (K)\n",
      "10      Non-incapacitating Evident Injury (B)\n",
      "11                           Fatal Injury (K)\n",
      "12      Non-incapacitating Evident Injury (B)\n",
      "13                           Fatal Injury (K)\n",
      "14                  Incapacitating Injury (A)\n",
      "15                           Fatal Injury (K)\n",
      "16                              No Injury (O)\n",
      "17      Non-incapacitating Evident Injury (B)\n",
      "18      Non-incapacitating Evident Injury (B)\n",
      "19      Non-incapacitating Evident Injury (B)\n",
      "20                           Fatal Injury (K)\n",
      "21      Non-incapacitating Evident Injury (B)\n",
      "22                           Fatal Injury (K)\n",
      "23                           Fatal Injury (K)\n",
      "24      Non-incapacitating Evident Injury (B)\n",
      "25                           Fatal Injury (K)\n",
      "26      Non-incapacitating Evident Injury (B)\n",
      "27                           Fatal Injury (K)\n",
      "28      Non-incapacitating Evident Injury (B)\n",
      "29                           Fatal Injury (K)\n",
      "                        ...                  \n",
      "4969                Incapacitating Injury (A)\n",
      "4970                            No Injury (O)\n",
      "4971                      Possible Injury (C)\n",
      "4972                         Fatal Injury (K)\n",
      "4973                         Fatal Injury (K)\n",
      "4974                            No Injury (O)\n",
      "4975                Incapacitating Injury (A)\n",
      "4976                         Fatal Injury (K)\n",
      "4977                Incapacitating Injury (A)\n",
      "4978    Non-incapacitating Evident Injury (B)\n",
      "4979    Non-incapacitating Evident Injury (B)\n",
      "4980                         Fatal Injury (K)\n",
      "4981                         Fatal Injury (K)\n",
      "4982    Non-incapacitating Evident Injury (B)\n",
      "4983    Non-incapacitating Evident Injury (B)\n",
      "4984                         Fatal Injury (K)\n",
      "4985    Non-incapacitating Evident Injury (B)\n",
      "4986                         Fatal Injury (K)\n",
      "4987                            No Injury (O)\n",
      "4988                            No Injury (O)\n",
      "4989                      Possible Injury (C)\n",
      "4990                      Possible Injury (C)\n",
      "4991                      Possible Injury (C)\n",
      "4992                         Fatal Injury (K)\n",
      "4993                            No Injury (O)\n",
      "4994    Non-incapacitating Evident Injury (B)\n",
      "4995                            No Injury (O)\n",
      "4996                      Possible Injury (C)\n",
      "4997                         Fatal Injury (K)\n",
      "4998                         Fatal Injury (K)\n",
      "Name: Injury Severity, dtype: object\n"
     ]
    }
   ],
   "source": [
    "print df[\"Injury Severity\"];"
   ]
  },
  {
   "cell_type": "code",
   "execution_count": 28,
   "metadata": {
    "collapsed": false
   },
   "outputs": [
    {
     "name": "stdout",
     "output_type": "stream",
     "text": [
      "<class 'pandas.core.frame.DataFrame'>\n",
      "Int64Index: 4999 entries, 0 to 4998\n",
      "Data columns (total 16 columns):\n",
      "State                      4999 non-null object\n",
      "Atmospheric Condition      4999 non-null object\n",
      "Crash Date                 4999 non-null object\n",
      "Fatalities in crash        4999 non-null int64\n",
      "Roadway                    4999 non-null object\n",
      "Age                        4929 non-null float64\n",
      "Alcohol Results            2293 non-null float64\n",
      "Person Type                4999 non-null object\n",
      "Drug Involvement           4999 non-null object\n",
      "Race                       2320 non-null object\n",
      "Gender                     4999 non-null object\n",
      "Injury Severity            4999 non-null object\n",
      "Crash Date.year            4999 non-null int64\n",
      "Crash Date.month           4999 non-null int64\n",
      "Crash Date.day-of-month    4999 non-null int64\n",
      "Crash Date.day-of-week     4999 non-null int64\n",
      "dtypes: float64(2), int64(5), object(9)\n",
      "memory usage: 663.9+ KB\n"
     ]
    }
   ],
   "source": [
    "df.info();"
   ]
  },
  {
   "cell_type": "code",
   "execution_count": 35,
   "metadata": {
    "collapsed": false
   },
   "outputs": [],
   "source": [
    "df.Age[df.Age.notnull()].sum();"
   ]
  },
  {
   "cell_type": "code",
   "execution_count": 37,
   "metadata": {
    "collapsed": false
   },
   "outputs": [
    {
     "data": {
      "text/plain": [
       "190300.0"
      ]
     },
     "execution_count": 37,
     "metadata": {},
     "output_type": "execute_result"
    }
   ],
   "source": [
    "df.Age[df.Age.notnull()].sum()"
   ]
  },
  {
   "cell_type": "code",
   "execution_count": 38,
   "metadata": {
    "collapsed": false
   },
   "outputs": [
    {
     "data": {
      "text/plain": [
       "count    4929.000000\n",
       "mean       38.608237\n",
       "std        20.305162\n",
       "min         0.000000\n",
       "25%        22.000000\n",
       "50%        36.000000\n",
       "75%        53.000000\n",
       "max        98.000000\n",
       "Name: Age, dtype: float64"
      ]
     },
     "execution_count": 38,
     "metadata": {},
     "output_type": "execute_result"
    }
   ],
   "source": [
    "df.Age[df.Age.notnull()].describe()"
   ]
  },
  {
   "cell_type": "code",
   "execution_count": 43,
   "metadata": {
    "collapsed": false
   },
   "outputs": [],
   "source": [
    "import numpy as np"
   ]
  },
  {
   "cell_type": "code",
   "execution_count": 44,
   "metadata": {
    "collapsed": true
   },
   "outputs": [],
   "source": [
    "df.Age.fillna(np.random.normal(38.60,20.30),inplace=True)"
   ]
  },
  {
   "cell_type": "code",
   "execution_count": 45,
   "metadata": {
    "collapsed": false
   },
   "outputs": [
    {
     "data": {
      "text/plain": [
       "count    4999.000000\n",
       "mean       38.925615\n",
       "std        20.337632\n",
       "min         0.000000\n",
       "25%        22.000000\n",
       "50%        36.000000\n",
       "75%        53.500000\n",
       "max        98.000000\n",
       "Name: Age, dtype: float64"
      ]
     },
     "execution_count": 45,
     "metadata": {},
     "output_type": "execute_result"
    }
   ],
   "source": [
    "df.Age[df.Age.notnull()].describe()"
   ]
  },
  {
   "cell_type": "code",
   "execution_count": 46,
   "metadata": {
    "collapsed": false
   },
   "outputs": [
    {
     "name": "stdout",
     "output_type": "stream",
     "text": [
      "0\n"
     ]
    }
   ],
   "source": [
    "print df[\"Age\"].isnull().values.sum()"
   ]
  },
  {
   "cell_type": "code",
   "execution_count": 47,
   "metadata": {
    "collapsed": false
   },
   "outputs": [
    {
     "data": {
      "text/plain": [
       "count    4999.000000\n",
       "mean       38.925615\n",
       "std        20.337632\n",
       "min         0.000000\n",
       "25%        22.000000\n",
       "50%        36.000000\n",
       "75%        53.500000\n",
       "max        98.000000\n",
       "Name: Age, dtype: float64"
      ]
     },
     "execution_count": 47,
     "metadata": {},
     "output_type": "execute_result"
    }
   ],
   "source": [
    "df.Age.describe()"
   ]
  },
  {
   "cell_type": "code",
   "execution_count": 48,
   "metadata": {
    "collapsed": true
   },
   "outputs": [],
   "source": [
    "from bokeh.plotting import figure, output_notebook,show,vplot"
   ]
  },
  {
   "cell_type": "code",
   "execution_count": 49,
   "metadata": {
    "collapsed": false
   },
   "outputs": [
    {
     "name": "stdout",
     "output_type": "stream",
     "text": [
      "0                  Clear\n",
      "1                  Clear\n",
      "2                  Clear\n",
      "3                  Clear\n",
      "4                  Clear\n",
      "5                  Clear\n",
      "6                  Clear\n",
      "7                  Clear\n",
      "8                 Cloudy\n",
      "9                 Cloudy\n",
      "10                 Clear\n",
      "11                 Clear\n",
      "12                  Rain\n",
      "13                  Rain\n",
      "14      Fog, Smog, Smoke\n",
      "15      Fog, Smog, Smoke\n",
      "16                 Clear\n",
      "17                 Clear\n",
      "18                 Clear\n",
      "19                 Clear\n",
      "20                 Clear\n",
      "21                 Clear\n",
      "22                 Clear\n",
      "23                  Rain\n",
      "24                 Clear\n",
      "25                 Clear\n",
      "26                 Clear\n",
      "27                 Clear\n",
      "28                 Clear\n",
      "29                 Clear\n",
      "              ...       \n",
      "4969                Rain\n",
      "4970               Clear\n",
      "4971               Clear\n",
      "4972               Clear\n",
      "4973              Cloudy\n",
      "4974              Cloudy\n",
      "4975               Clear\n",
      "4976               Clear\n",
      "4977               Clear\n",
      "4978               Clear\n",
      "4979              Cloudy\n",
      "4980              Cloudy\n",
      "4981               Clear\n",
      "4982               Clear\n",
      "4983               Clear\n",
      "4984                Snow\n",
      "4985                Snow\n",
      "4986               Clear\n",
      "4987               Clear\n",
      "4988               Clear\n",
      "4989               Clear\n",
      "4990               Clear\n",
      "4991               Clear\n",
      "4992               Clear\n",
      "4993               Clear\n",
      "4994               Clear\n",
      "4995                Snow\n",
      "4996               Clear\n",
      "4997               Clear\n",
      "4998                Rain\n",
      "Name: Atmospheric Condition, dtype: object\n"
     ]
    }
   ],
   "source": [
    "print df[\"Atmospheric Condition\"]"
   ]
  },
  {
   "cell_type": "code",
   "execution_count": 50,
   "metadata": {
    "collapsed": false
   },
   "outputs": [
    {
     "ename": "AttributeError",
     "evalue": "'DataFrame' object has no attribute 'Embarked'",
     "output_type": "error",
     "traceback": [
      "\u001b[0;31m---------------------------------------------------------------------------\u001b[0m",
      "\u001b[0;31mAttributeError\u001b[0m                            Traceback (most recent call last)",
      "\u001b[0;32m<ipython-input-50-7c81ca5b8b1b>\u001b[0m in \u001b[0;36m<module>\u001b[0;34m()\u001b[0m\n\u001b[0;32m----> 1\u001b[0;31m \u001b[0mdf\u001b[0m\u001b[0;34m.\u001b[0m\u001b[0mEmbarked\u001b[0m\u001b[0;34m.\u001b[0m\u001b[0munique\u001b[0m\u001b[0;34m(\u001b[0m\u001b[0;34m)\u001b[0m\u001b[0;34m\u001b[0m\u001b[0m\n\u001b[0m",
      "\u001b[0;32m/Users/logan/anaconda/lib/python2.7/site-packages/pandas/core/generic.pyc\u001b[0m in \u001b[0;36m__getattr__\u001b[0;34m(self, name)\u001b[0m\n\u001b[1;32m   2148\u001b[0m                 \u001b[0;32mreturn\u001b[0m \u001b[0mself\u001b[0m\u001b[0;34m[\u001b[0m\u001b[0mname\u001b[0m\u001b[0;34m]\u001b[0m\u001b[0;34m\u001b[0m\u001b[0m\n\u001b[1;32m   2149\u001b[0m             raise AttributeError(\"'%s' object has no attribute '%s'\" %\n\u001b[0;32m-> 2150\u001b[0;31m                                  (type(self).__name__, name))\n\u001b[0m\u001b[1;32m   2151\u001b[0m \u001b[0;34m\u001b[0m\u001b[0m\n\u001b[1;32m   2152\u001b[0m     \u001b[0;32mdef\u001b[0m \u001b[0m__setattr__\u001b[0m\u001b[0;34m(\u001b[0m\u001b[0mself\u001b[0m\u001b[0;34m,\u001b[0m \u001b[0mname\u001b[0m\u001b[0;34m,\u001b[0m \u001b[0mvalue\u001b[0m\u001b[0;34m)\u001b[0m\u001b[0;34m:\u001b[0m\u001b[0;34m\u001b[0m\u001b[0m\n",
      "\u001b[0;31mAttributeError\u001b[0m: 'DataFrame' object has no attribute 'Embarked'"
     ]
    }
   ],
   "source": [
    "df.Embarked.unique()"
   ]
  },
  {
   "cell_type": "code",
   "execution_count": 51,
   "metadata": {
    "collapsed": false
   },
   "outputs": [
    {
     "data": {
      "text/plain": [
       "array(['Clear', 'Cloudy', 'Rain', 'Fog, Smog, Smoke', 'Snow',\n",
       "       'Blowing Snow', 'Sleet, Hail (Freezing Rain or Drizzle)',\n",
       "       'Not Reported', 'Blowing Sand, Soil, Dirt', 'Unknown',\n",
       "       'Severe Crosswinds', 'Other'], dtype=object)"
      ]
     },
     "execution_count": 51,
     "metadata": {},
     "output_type": "execute_result"
    }
   ],
   "source": [
    "df[\"Atmospheric Condition\"].unique()"
   ]
  },
  {
   "cell_type": "code",
   "execution_count": 53,
   "metadata": {
    "collapsed": false
   },
   "outputs": [
    {
     "data": {
      "text/plain": [
       "Age\n",
       "0      17\n",
       "1      25\n",
       "2      33\n",
       "3      17\n",
       "4      27\n",
       "5      24\n",
       "6      18\n",
       "7      24\n",
       "8      22\n",
       "9      26\n",
       "10     18\n",
       "11     28\n",
       "12     25\n",
       "13     20\n",
       "14     31\n",
       "15     49\n",
       "16     90\n",
       "17    102\n",
       "18    156\n",
       "19    147\n",
       "20    121\n",
       "21    154\n",
       "22    121\n",
       "23    117\n",
       "24    124\n",
       "25     92\n",
       "26     99\n",
       "27     86\n",
       "28     93\n",
       "29     87\n",
       "     ... \n",
       "67     28\n",
       "68     23\n",
       "69     44\n",
       "70     28\n",
       "71     25\n",
       "72     28\n",
       "73     19\n",
       "74     21\n",
       "75     30\n",
       "76     16\n",
       "77     26\n",
       "78     19\n",
       "79     23\n",
       "80     25\n",
       "81     18\n",
       "82     25\n",
       "83     12\n",
       "84     17\n",
       "85     14\n",
       "86     14\n",
       "87     13\n",
       "88     13\n",
       "89      6\n",
       "90     11\n",
       "91      4\n",
       "92      6\n",
       "93      6\n",
       "94      1\n",
       "97      1\n",
       "98      1\n",
       "Name: Atmospheric Condition, dtype: int64"
      ]
     },
     "execution_count": 53,
     "metadata": {},
     "output_type": "execute_result"
    }
   ],
   "source": [
    "df.groupby('Age')[\"Atmospheric Condition\"].count()"
   ]
  },
  {
   "cell_type": "code",
   "execution_count": 57,
   "metadata": {
    "collapsed": true
   },
   "outputs": [],
   "source": [
    "h = sorted(df[\"Age\"])"
   ]
  },
  {
   "cell_type": "code",
   "execution_count": 55,
   "metadata": {
    "collapsed": true
   },
   "outputs": [],
   "source": [
    "import scipy.stats as stats"
   ]
  },
  {
   "cell_type": "code",
   "execution_count": 58,
   "metadata": {
    "collapsed": false
   },
   "outputs": [],
   "source": [
    "pdf = stats.norm.pdf(h, np.mean(h), np.std(h))"
   ]
  },
  {
   "cell_type": "code",
   "execution_count": 59,
   "metadata": {
    "collapsed": true
   },
   "outputs": [],
   "source": [
    "p = figure(title=\"Age histogram\", x_axis_label='Age', y_axis_label='Counts')"
   ]
  },
  {
   "cell_type": "code",
   "execution_count": 61,
   "metadata": {
    "collapsed": false
   },
   "outputs": [
    {
     "ename": "AttributeError",
     "evalue": "'Figure' object has no attribute 'vplot'",
     "output_type": "error",
     "traceback": [
      "\u001b[0;31m---------------------------------------------------------------------------\u001b[0m",
      "\u001b[0;31mAttributeError\u001b[0m                            Traceback (most recent call last)",
      "\u001b[0;32m<ipython-input-61-bcd88631f54b>\u001b[0m in \u001b[0;36m<module>\u001b[0;34m()\u001b[0m\n\u001b[0;32m----> 1\u001b[0;31m \u001b[0mp\u001b[0m\u001b[0;34m.\u001b[0m\u001b[0mvplot\u001b[0m\u001b[0;34m(\u001b[0m\u001b[0mh\u001b[0m\u001b[0;34m,\u001b[0m \u001b[0mpdf\u001b[0m\u001b[0;34m)\u001b[0m\u001b[0;34m\u001b[0m\u001b[0m\n\u001b[0m",
      "\u001b[0;31mAttributeError\u001b[0m: 'Figure' object has no attribute 'vplot'"
     ]
    }
   ],
   "source": [
    "p.vplot(h, pdf)"
   ]
  },
  {
   "cell_type": "code",
   "execution_count": 62,
   "metadata": {
    "collapsed": true
   },
   "outputs": [],
   "source": [
    "hist, edges = np.histogram(df['Age'], density=True, bins=50)"
   ]
  },
  {
   "cell_type": "code",
   "execution_count": 63,
   "metadata": {
    "collapsed": true
   },
   "outputs": [],
   "source": [
    "x = np.linspace(df['Age'].min(), df['Age'].max(),100)"
   ]
  },
  {
   "cell_type": "code",
   "execution_count": 64,
   "metadata": {
    "collapsed": false
   },
   "outputs": [
    {
     "data": {
      "text/plain": [
       "<bokeh.plotting.Figure at 0x10b8c2f90>"
      ]
     },
     "execution_count": 64,
     "metadata": {},
     "output_type": "execute_result"
    }
   ],
   "source": [
    "p.quad(top = hist*len(df['Age']), bottom = 0, left = edges[:-1], right = edges[1:], line_color = 'black')"
   ]
  },
  {
   "cell_type": "code",
   "execution_count": 65,
   "metadata": {
    "collapsed": true
   },
   "outputs": [],
   "source": [
    "show(vplot(p))"
   ]
  },
  {
   "cell_type": "code",
   "execution_count": 66,
   "metadata": {
    "collapsed": true
   },
   "outputs": [],
   "source": [
    "from bokeh.plotting import figure, output_file, show"
   ]
  },
  {
   "cell_type": "code",
   "execution_count": 67,
   "metadata": {
    "collapsed": true
   },
   "outputs": [],
   "source": [
    "output_file(\"age.hist\")"
   ]
  },
  {
   "cell_type": "code",
   "execution_count": 68,
   "metadata": {
    "collapsed": true
   },
   "outputs": [],
   "source": [
    "show(p)"
   ]
  },
  {
   "cell_type": "code",
   "execution_count": 69,
   "metadata": {
    "collapsed": true
   },
   "outputs": [],
   "source": [
    "output_file('age.html')"
   ]
  },
  {
   "cell_type": "code",
   "execution_count": 71,
   "metadata": {
    "collapsed": false
   },
   "outputs": [],
   "source": [
    "show(p)"
   ]
  },
  {
   "cell_type": "code",
   "execution_count": null,
   "metadata": {
    "collapsed": true
   },
   "outputs": [],
   "source": []
  }
 ],
 "metadata": {
  "kernelspec": {
   "display_name": "Python 2",
   "language": "python",
   "name": "python2"
  },
  "language_info": {
   "codemirror_mode": {
    "name": "ipython",
    "version": 2
   },
   "file_extension": ".py",
   "mimetype": "text/x-python",
   "name": "python",
   "nbconvert_exporter": "python",
   "pygments_lexer": "ipython2",
   "version": "2.7.10"
  }
 },
 "nbformat": 4,
 "nbformat_minor": 0
}
