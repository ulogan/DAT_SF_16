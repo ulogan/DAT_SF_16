{
 "cells": [
  {
   "cell_type": "markdown",
   "metadata": {},
   "source": [
    "# GA Data Science 16 (DAT16) - Lab 17 a\n",
    "\n",
    "### Time Series Analysis\n",
    "\n",
    "Francesco Mosconi, Justin Breucop\n",
    "\n",
    "### Today"
   ]
  },
  {
   "cell_type": "code",
   "execution_count": null,
   "metadata": {
    "collapsed": false
   },
   "outputs": [],
   "source": [
    "%pylab inline\n",
    "import pandas as pd"
   ]
  },
  {
   "cell_type": "markdown",
   "metadata": {
    "collapsed": true
   },
   "source": [
    "## Sound Analysis"
   ]
  },
  {
   "cell_type": "code",
   "execution_count": null,
   "metadata": {
    "collapsed": false
   },
   "outputs": [],
   "source": [
    "from scipy.io import wavfile\n",
    "fs, data = wavfile.read('./Time Series Audio.wav')"
   ]
  },
  {
   "cell_type": "code",
   "execution_count": null,
   "metadata": {
    "collapsed": true
   },
   "outputs": [],
   "source": [
    "mono = data[:,1]\n",
    "T = len(mono)/44100.0\n",
    "t = np.linspace(0,T, len(mono))"
   ]
  },
  {
   "cell_type": "markdown",
   "metadata": {},
   "source": [
    "display the spectrogram"
   ]
  },
  {
   "cell_type": "code",
   "execution_count": null,
   "metadata": {
    "collapsed": false
   },
   "outputs": [],
   "source": [
    "figure(figsize = (15,10))\n",
    "subplot(211)\n",
    "plot(t,mono)\n",
    "title(\"sound\")\n",
    "\n",
    "subplot(212)\n",
    "# the specgram function already outputs a plot\n",
    "_ = specgram(mono, Fs = 44100, NFFT=512)\n",
    "ylim(0,15000)\n",
    "title(\"Spectrogram\")\n",
    "ylabel(\"Frequency (Hz)\")"
   ]
  },
  {
   "cell_type": "code",
   "execution_count": null,
   "metadata": {
    "collapsed": false
   },
   "outputs": [],
   "source": [
    "figure(figsize = (15,5))\n",
    "# change the resolution of the specgram\n",
    "_ = specgram(mono, Fs = 44100, NFFT=1024)\n",
    "ylim(0,15000)\n",
    "title(\"Spectrogram\")\n",
    "ylabel(\"Frequency (Hz)\")"
   ]
  },
  {
   "cell_type": "code",
   "execution_count": null,
   "metadata": {
    "collapsed": false
   },
   "outputs": [],
   "source": [
    "figure(figsize = (15,5))\n",
    "_ = specgram(mono, Fs = 44100, NFFT=2048)\n",
    "ylim(0,15000)\n",
    "title(\"Spectrogram\")\n",
    "ylabel(\"Frequency (Hz)\")"
   ]
  },
  {
   "cell_type": "code",
   "execution_count": null,
   "metadata": {
    "collapsed": true
   },
   "outputs": [],
   "source": []
  },
  {
   "cell_type": "code",
   "execution_count": null,
   "metadata": {
    "collapsed": false
   },
   "outputs": [],
   "source": [
    "figure(figsize = (10,7))\n",
    "ts = pd.Series(randn(4000), index=pd.date_range('1/1/2000', periods=4000))\n",
    "ts = ts.cumsum()\n",
    "ts.plot()"
   ]
  },
  {
   "cell_type": "markdown",
   "metadata": {},
   "source": [
    "## fancy plotting"
   ]
  },
  {
   "cell_type": "code",
   "execution_count": null,
   "metadata": {
    "collapsed": true
   },
   "outputs": [],
   "source": [
    "from pandas.tools.plotting import lag_plot"
   ]
  },
  {
   "cell_type": "code",
   "execution_count": null,
   "metadata": {
    "collapsed": false
   },
   "outputs": [],
   "source": [
    "corrts = pd.Series(0.2 * rand(1000) + 0.8 * np.sin(np.linspace(-99 * np.pi, 99 * np.pi, num=1000)))"
   ]
  },
  {
   "cell_type": "code",
   "execution_count": null,
   "metadata": {
    "collapsed": false
   },
   "outputs": [],
   "source": [
    "figure(figsize = (15,10))\n",
    "subplot(221)\n",
    "ts.plot()\n",
    "subplot(222)\n",
    "lag_plot(ts, alpha = 0.5)\n",
    "subplot(223)\n",
    "corrts.ix[0:200].plot()\n",
    "\n",
    "subplot(224)\n",
    "lag_plot(corrts, alpha = 0.5)\n"
   ]
  },
  {
   "cell_type": "code",
   "execution_count": null,
   "metadata": {
    "collapsed": true
   },
   "outputs": [],
   "source": [
    "from pandas.tools.plotting import autocorrelation_plot"
   ]
  },
  {
   "cell_type": "code",
   "execution_count": null,
   "metadata": {
    "collapsed": false
   },
   "outputs": [],
   "source": [
    "figure(figsize = (15,10))\n",
    "subplot(221)\n",
    "ts.plot()\n",
    "ax = subplot(222)\n",
    "autocorrelation_plot(ts, alpha = 0.5, ax = ax)\n",
    "subplot(223)\n",
    "corrts.ix[0:200].plot()\n",
    "\n",
    "ax1= subplot(224)\n",
    "autocorrelation_plot(corrts, alpha = 0.5, ax = ax1)\n"
   ]
  },
  {
   "cell_type": "code",
   "execution_count": null,
   "metadata": {
    "collapsed": false
   },
   "outputs": [],
   "source": [
    "from bokeh.sampledata.stocks import MSFT\n",
    "import bokeh.plotting as bh\n",
    "bh.output_notebook()"
   ]
  },
  {
   "cell_type": "code",
   "execution_count": null,
   "metadata": {
    "collapsed": false
   },
   "outputs": [],
   "source": [
    "df = pd.DataFrame(MSFT)[:50]\n",
    "df[\"date\"] = pd.to_datetime(df[\"date\"])\n",
    "\n",
    "mids = (df.open + df.close)/2\n",
    "spans = abs(df.close-df.open)\n",
    "\n",
    "inc = df.close > df.open\n",
    "dec = df.open > df.close\n",
    "w = 12*60*60*1000 # half day in ms\n",
    "\n",
    "\n",
    "p = bh.figure(x_axis_type=\"datetime\", tools='', plot_width=1000)\n",
    "\n",
    "p.segment(df.date, df.high, df.date, df.low, color=\"black\", toolbar_location=\"left\")\n",
    "p.rect(df.date[inc], mids[inc], w, spans[inc], fill_color=\"#D5E1DD\", line_color=\"black\")\n",
    "p.rect(df.date[dec], mids[dec], w, spans[dec], fill_color=\"#F2583E\", line_color=\"black\")\n",
    "\n",
    "p.title = \"MSFT Candlestick\"\n",
    "p.xaxis.major_label_orientation = pi/4\n",
    "p.grid.grid_line_alpha=0.3\n",
    "bh.show(p)"
   ]
  },
  {
   "cell_type": "code",
   "execution_count": null,
   "metadata": {
    "collapsed": false
   },
   "outputs": [],
   "source": [
    "figure(figsize = (15,10))\n",
    "subplot(221)\n",
    "ts.plot()\n",
    "\n",
    "subplot(222)\n",
    "ts.plot(alpha = 0.3)\n",
    "\n",
    "pd.rolling_mean(ts, 20).plot(alpha = 1.0)\n",
    "legend(['data','rolling mean 20 points'])\n",
    "\n",
    "subplot(223)\n",
    "ts.plot(alpha = 0.3)\n",
    "\n",
    "pd.rolling_mean(ts, 200).plot(alpha = 1.0)\n",
    "legend(['data','rolling mean 200 points'])\n",
    "\n",
    "subplot(224)\n",
    "ts.plot(alpha = 0.3)\n",
    "\n",
    "pd.rolling_mean(ts, 500).plot(alpha = 1.0)\n",
    "legend(['data','rolling mean 500 points'])\n"
   ]
  },
  {
   "cell_type": "code",
   "execution_count": null,
   "metadata": {
    "collapsed": false
   },
   "outputs": [],
   "source": [
    "from scipy.signal import butter, filtfilt\n",
    "\n",
    "figure(figsize = (15,10))\n",
    "subplot(221)\n",
    "ts.plot()\n",
    "\n",
    "subplot(222)\n",
    "ts.plot(alpha = 0.3)\n",
    "\n",
    "pd.rolling_mean(ts, 200, center = True).plot(alpha = 1.0)\n",
    "legend(['data','rolling mean 200 points'])\n",
    "\n",
    "subplot(223)\n",
    "ts.plot(alpha = 0.3)\n",
    "\n",
    "pd.stats.moments.ewma(ts, 160).plot(alpha = 1.0)\n",
    "legend(['data','EWMA 160 points'])\n",
    "\n",
    "subplot(224)\n",
    "ts.plot(alpha = 0.3)\n",
    "\n",
    "pd.Series(data = filtfilt(*butter(4,0.008,'low'), x = ts.values), index = ts.index).plot(alpha = 1.0)\n",
    "legend(['data','Butterworth 4th order IIR 0.008'])\n"
   ]
  },
  {
   "cell_type": "code",
   "execution_count": null,
   "metadata": {
    "collapsed": false
   },
   "outputs": [],
   "source": [
    "figure(figsize = (15,10))\n",
    "subplot(211)\n",
    "(ts+50).plot()\n",
    "axhline(50, color = 'r')\n",
    "axhline(50+ts.std())\n",
    "axhline(50-ts.std())\n",
    "\n",
    "subplot(212)\n",
    "(ts/ts.std()).plot()\n",
    "axhline(0, color = 'r')\n",
    "axhline(1)\n",
    "axhline(-1)"
   ]
  },
  {
   "cell_type": "code",
   "execution_count": null,
   "metadata": {
    "collapsed": false
   },
   "outputs": [],
   "source": [
    "ttt = np.linspace(0, 10, num=1000)\n",
    "noisysine = pd.Series(0.5 * rand(1000) + 0.5 * np.sin(2*pi*ttt))\n",
    "\n",
    "figure(figsize = (15,10))\n",
    "subplot(221)\n",
    "noisysine.plot()\n",
    "\n",
    "subplot(222)\n",
    "(noisysine.diff()*2*pi).plot()\n",
    "title('difference')\n",
    "\n",
    "subplot(223)\n",
    "noisysine.plot(alpha = 0.3)\n",
    "filtered = pd.Series(data = filtfilt(*butter(4,0.05,'low'), x = noisysine.values), index = noisysine.index)\n",
    "filtered.plot(alpha = 1.0)\n",
    "legend(['data','Butterworth 4th order IIR 0.05'])\n",
    "\n",
    "subplot(224)\n",
    "(noisysine.diff()*2*pi).plot(alpha = 0.3)\n",
    "(filtered.diff()*2*pi).plot(alpha = 1.0)\n",
    "filtered.plot(alpha = 0.5)\n",
    "\n",
    "legend(['diff of raw', 'diff of filtered', 'filtered'])"
   ]
  },
  {
   "cell_type": "code",
   "execution_count": null,
   "metadata": {
    "collapsed": false
   },
   "outputs": [],
   "source": [
    "t = linspace(0,10,1000)\n",
    "noise = 0.3*randn(1000)\n",
    "periodic = sin(5*t)\n",
    "trend = 0.5*t\n",
    "amplif = exp(0.1*t)\n",
    "\n",
    "\n",
    "plot(t, (trend+periodic+noise)*amplif)\n",
    "title('Timeseries')\n",
    "xlabel('Time')\n",
    "xlim(0,12)\n"
   ]
  },
  {
   "cell_type": "code",
   "execution_count": null,
   "metadata": {
    "collapsed": false
   },
   "outputs": [],
   "source": [
    "plot(t, (trend+periodic+noise)*amplif)\n",
    "plot(t, trend*amplif)\n",
    "plot(t, (trend+periodic)*amplif)\n",
    "\n",
    "title('Timeseries')\n",
    "xlabel('Time')\n",
    "xlim(0,12)\n"
   ]
  },
  {
   "cell_type": "code",
   "execution_count": null,
   "metadata": {
    "collapsed": false
   },
   "outputs": [],
   "source": [
    "subplot(411)\n",
    "plot(t, noise)\n",
    "xlim(0,12)\n",
    "title('Noise')\n",
    "\n",
    "subplot(412)\n",
    "plot(t, trend)\n",
    "xlim(0,12)\n",
    "title('Trend')\n",
    "\n",
    "subplot(413)\n",
    "plot(t, periodic)\n",
    "title('Periodic')\n",
    "xlim(0,12)\n",
    "\n",
    "\n",
    "subplot(414)\n",
    "plot(t, amplif)\n",
    "title('Gain')\n",
    "\n",
    "xlabel('Time')\n",
    "xlim(0,12)"
   ]
  },
  {
   "cell_type": "code",
   "execution_count": null,
   "metadata": {
    "collapsed": false
   },
   "outputs": [],
   "source": [
    "airpassdata = pd.read_csv('lab_data/international-airline-passengers.csv')\n",
    "airpassdata['Month'] = pd.to_datetime(airpassdata['Month'])\n",
    "airpassdata.set_index('Month', inplace=True)\n",
    "airpassdata.head()"
   ]
  },
  {
   "cell_type": "code",
   "execution_count": null,
   "metadata": {
    "collapsed": false
   },
   "outputs": [],
   "source": [
    "airpassdata.plot()"
   ]
  },
  {
   "cell_type": "code",
   "execution_count": null,
   "metadata": {
    "collapsed": true
   },
   "outputs": [],
   "source": []
  }
 ],
 "metadata": {
  "kernelspec": {
   "display_name": "Python 2",
   "language": "python",
   "name": "python2"
  },
  "language_info": {
   "codemirror_mode": {
    "name": "ipython",
    "version": 2
   },
   "file_extension": ".py",
   "mimetype": "text/x-python",
   "name": "python",
   "nbconvert_exporter": "python",
   "pygments_lexer": "ipython2",
   "version": "2.7.10"
  }
 },
 "nbformat": 4,
 "nbformat_minor": 0
}
