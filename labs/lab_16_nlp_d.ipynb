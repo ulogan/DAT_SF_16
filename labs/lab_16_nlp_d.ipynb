{
 "cells": [
  {
   "cell_type": "markdown",
   "metadata": {},
   "source": [
    "# Sentiment Analysis\n",
    "\n",
    "Let's make some money.\n",
    "\n",
    "For our training set, we'll use the Rotten Tomatoes reviews from before. We'll start by using a logistic regression model as our classifier."
   ]
  },
  {
   "cell_type": "code",
   "execution_count": null,
   "metadata": {
    "collapsed": false
   },
   "outputs": [],
   "source": [
    "import pandas as pd\n",
    "import numpy as np\n",
    "from sklearn.cross_validation import train_test_split\n",
    "from sklearn.feature_extraction.text import CountVectorizer, TfidfVectorizer\n",
    "from sklearn.linear_model import LogisticRegression\n",
    "from sklearn import svm\n",
    "from sklearn.metrics import accuracy_score"
   ]
  },
  {
   "cell_type": "code",
   "execution_count": null,
   "metadata": {
    "collapsed": false
   },
   "outputs": [],
   "source": [
    "# load data\n",
    "try:\n",
    "    df = pd.read_csv('data/rt_critics.csv')\n",
    "except IOError:\n",
    "    print 'cannot find file'\n",
    "\n",
    "df.head()"
   ]
  },
  {
   "cell_type": "markdown",
   "metadata": {},
   "source": [
    "If you want to challenge yourself, ignore the subsequent cells and create the classifier on your own with your favorite model right here.\n",
    "\n",
    "See how stop words and tf-idf scoring helps or hurts your model.\n",
    "\n",
    "When you're done with that, skip to 'Next Steps'"
   ]
  },
  {
   "cell_type": "code",
   "execution_count": null,
   "metadata": {
    "collapsed": false
   },
   "outputs": [],
   "source": [
    "# play space for the bold.\n",
    "\n",
    "\n"
   ]
  },
  {
   "cell_type": "code",
   "execution_count": null,
   "metadata": {
    "collapsed": false
   },
   "outputs": [],
   "source": [
    "# run this cell to examine data\n",
    "\n",
    "vectorizer = CountVectorizer()\n",
    "\n",
    "Xcv = vectorizer.fit_transform(df['quote'])\n",
    "\n",
    "print '%d samples, %d features' % Xcv.shape"
   ]
  },
  {
   "cell_type": "code",
   "execution_count": 27,
   "metadata": {
    "collapsed": false
   },
   "outputs": [],
   "source": [
    "# a helper function to train an SVM model and classify the test instances\n",
    "def classify_svm(xtrain, xtest, ytrain, ytest):\n",
    "    clf = svm.SVC(kernel='linear')\n",
    "    clf.fit(xtrain, ytrain) \n",
    "    ypredicted = clf.predict(xtest)\n",
    "    print \"Accuracy: %0.2f%%\" % 100 * accuracy_score(ytest, ypredicted)"
   ]
  },
  {
   "cell_type": "markdown",
   "metadata": {},
   "source": [
    "But wait! We have more features than samples. This would ensure overfitting. Let's trim that number down to the top 5000, ranked by the term frequency across all documents."
   ]
  },
  {
   "cell_type": "code",
   "execution_count": null,
   "metadata": {
    "collapsed": false
   },
   "outputs": [],
   "source": [
    "# run this cell to vectorize our documents\n",
    "\n",
    "# create vectorizer object\n",
    "vectorizer = CountVectorizer(max_features=5000)\n",
    "\n",
    "# convert our documents and their labels into numpy arrays\n",
    "Xcv = vectorizer.fit_transform(df['quote'])\n",
    "Y = (df['fresh'] == 'fresh').values.astype(np.int8)\n",
    "\n",
    "# split the converted data into training and test sets\n",
    "xtrain, xtest, ytrain, ytest = train_test_split(Xcv, Y, random_state=1)"
   ]
  },
  {
   "cell_type": "code",
   "execution_count": null,
   "metadata": {
    "collapsed": false
   },
   "outputs": [],
   "source": [
    "# Evaluate performance of models\n",
    "classify_svm(xtrain, xtest, ytrain, ytest)"
   ]
  },
  {
   "cell_type": "markdown",
   "metadata": {},
   "source": [
    "# Stop Words\n",
    "\n",
    "The performance isn't horrible, but it's not great. Can we improve things by [using stop words](http://scikit-learn.org/stable/modules/generated/sklearn.feature_extraction.text.CountVectorizer.html#sklearn.feature_extraction.text.CountVectorizer)? See the linked documentation for how to tell CountVectorizer to skip stop words."
   ]
  },
  {
   "cell_type": "code",
   "execution_count": null,
   "metadata": {
    "collapsed": false
   },
   "outputs": [],
   "source": [
    "# edit this cell to include stopwords\n",
    "\n",
    "# create vectorizer object\n",
    "vectorizer = CountVectorizer(max_features=5000)\n",
    "\n",
    "# convert our documents and their labels into numpy arrays\n",
    "Xcvs = vectorizer.fit_transform(df['quote'])\n",
    "Y = (df['fresh'] == 'fresh').values.astype(np.int8)\n",
    "\n",
    "# split the converted data into training and test sets\n",
    "xtraincvs, xtestcvs, ytraincvs, ytestcvs = train_test_split(Xcvs, Y, random_state=1)"
   ]
  },
  {
   "cell_type": "code",
   "execution_count": null,
   "metadata": {
    "collapsed": false
   },
   "outputs": [],
   "source": [
    "# Evaluate performance of models\n",
    "classify_svm(xtraincvs, xtestcvs, ytraincvs, ytestcvs)"
   ]
  },
  {
   "cell_type": "markdown",
   "metadata": {},
   "source": [
    "# tf-idf\n",
    "\n",
    "If that didn't work, how about using tf-idf weighting?\n",
    "\n",
    "http://scikit-learn.org/stable/modules/generated/sklearn.feature_extraction.text.TfidfVectorizer.html#sklearn.feature_extraction.text.TfidfVectorizer"
   ]
  },
  {
   "cell_type": "code",
   "execution_count": null,
   "metadata": {
    "collapsed": false
   },
   "outputs": [],
   "source": [
    "# edit this cell to create a TfidfVectorizer instead of a simple CountVectorizer\n",
    "\n",
    "# create vectorizer object\n",
    "vectorizer = CountVectorizer(max_features=5000)\n",
    "\n",
    "# convert our documents and their labels into numpy arrays\n",
    "Xti = vectorizer.fit_transform(df['quote'])\n",
    "Y = (df['fresh'] == 'fresh').values.astype(np.int8)\n",
    "\n",
    "# split the converted data into training and test sets\n",
    "xtrainti, xtestti, ytrainti, ytestti = train_test_split(Xti, Y, random_state=1)"
   ]
  },
  {
   "cell_type": "code",
   "execution_count": null,
   "metadata": {
    "collapsed": false
   },
   "outputs": [],
   "source": [
    "# Evaluate performance of models\n",
    "classify_svm(xtrainti, xtestti, ytrainti, ytestti)"
   ]
  },
  {
   "cell_type": "markdown",
   "metadata": {},
   "source": [
    "# tf-idf and stop words\n",
    "\n",
    "Do both together help?"
   ]
  },
  {
   "cell_type": "code",
   "execution_count": null,
   "metadata": {
    "collapsed": false
   },
   "outputs": [],
   "source": [
    "# edit this cell to create a TfidfVectorizer that uses stop words\n",
    "\n",
    "# create vectorizer object\n",
    "vectorizer = CountVectorizer(max_features=5000)\n",
    "\n",
    "# convert our documents and their labels into numpy arrays\n",
    "Xtis = vectorizer.fit_transform(df['quote'])\n",
    "Y = (df['fresh'] == 'fresh').values.astype(np.int8)\n",
    "\n",
    "# split the converted data into training and test sets\n",
    "xtraintis, xtesttis, ytraintis, ytesttis = train_test_split(Xtis, Y, random_state=1)"
   ]
  },
  {
   "cell_type": "code",
   "execution_count": null,
   "metadata": {
    "collapsed": false
   },
   "outputs": [],
   "source": [
    "# Evaluate performance of models\n",
    "classify_svm(xtraintis, xtesttis, ytraintis, ytesttis)"
   ]
  },
  {
   "cell_type": "markdown",
   "metadata": {},
   "source": [
    "# Next steps\n",
    "\n",
    "Are you satisfied with these results? Why might you be less than satisfied? How can you explain the observed behavior? What are the next steps you would need to do to improve this classifier? If you have time remaining, try a few strategies out below."
   ]
  },
  {
   "cell_type": "code",
   "execution_count": null,
   "metadata": {
    "collapsed": false
   },
   "outputs": [],
   "source": [
    "# continue playing here.\n",
    "# did you finish all of the previous labs? How do your implementations compare?"
   ]
  },
  {
   "cell_type": "markdown",
   "metadata": {},
   "source": [
    "# More Next Steps\n",
    "\n",
    "We're not making any money with this classifier yet. If it were that easy, everyone would do it and there'd be no money in it. The hardest part of this problem is usually finding good training data. Googling 'sentiment analysis training data' or 'sentiment analysis test data' turns up a few freely available sources. Most of them are hosted by universities.\n",
    "\n",
    "But notice, determining the judgment of a movie review isn't the same task as determining the emotional content of a tweet. And yet, it kind of is. The computer doesn't know anything about nature of the text. All it knows is that there are documents with one label (fresh/happy) and documents with another label (rotten/sad) and it needs to fit a model to discriminate between the two. This can be extended to more classes (look into the 20 newsgroups dataset in sci-kit learn) and to proprietary corpora.\n",
    "\n",
    "One application you might use at work is classifying support emails from users. The classes may be 'ranting', 'mischarge', 'lost order', 'gushing'. Or whatever is common. Even if the classifier isn't perfect, it could help streamline the process of getting the right emails to the right support personnel."
   ]
  }
 ],
 "metadata": {
  "kernelspec": {
   "display_name": "Python 2",
   "language": "python",
   "name": "python2"
  },
  "language_info": {
   "codemirror_mode": {
    "name": "ipython",
    "version": 2
   },
   "file_extension": ".py",
   "mimetype": "text/x-python",
   "name": "python",
   "nbconvert_exporter": "python",
   "pygments_lexer": "ipython2",
   "version": "2.7.9"
  }
 },
 "nbformat": 4,
 "nbformat_minor": 0
}
