{
 "cells": [
  {
   "cell_type": "markdown",
   "metadata": {},
   "source": [
    "# GA DAT16\n",
    "## Databases: SQLite (SQL) and MongoDB (noSQL)\n",
    "### Justin Breucop, Francesco Mosconi\n",
    "\n",
    "#### Adapted from @dowstreet's SF DAT5 Lab, Michael Keba DAT10 and @justalfred's NYC DS11 notebooks\n",
    "\n",
    "This lab will cover two different types of databases:\n",
    "\n",
    "- [SQL](https://en.wikipedia.org/wiki/SQL): table-oriented databases for relational or structured data\n",
    "- [noSQL](https://en.wikipedia.org/wiki/Nosql): document-oriented databases for semi-structured or unstructured data\n",
    "\n",
    "We will use SQLite as an example of an SQL database, and MongoDB as an example of a noSQL database."
   ]
  },
  {
   "cell_type": "markdown",
   "metadata": {},
   "source": [
    "### SQLite (SQL)\n",
    "\n",
    "**[SQLite](https://sqlite.org/)** is a database software package built on the Structured Query Language [(SQL)](https://en.wikipedia.org/wiki/SQL).  It is similar to other SQL databases, such as [PostgreSQL](http://www.postgresql.org/), [MySQL](https://www.mysql.com/), Oracle, and Microsoft SQL Server, except that it is *file-based*, rather than *server-based*.  This makes it easy to setup and use for small projects, but less suitable for production environments.  Once you are familiar with sqlite, the same ideas, and similar syntax, can be applied to other SQL databases."
   ]
  },
  {
   "cell_type": "markdown",
   "metadata": {},
   "source": [
    "SQLite v3 is bundled with most python distributions (including our Anaconda distribution).  You might also find it useful to install [SQLite Manager](https://addons.mozilla.org/en-US/firefox/addon/sqlite-manager/?src), a Firefox add-on for viewing SQLite database files via a simple GUI."
   ]
  },
  {
   "cell_type": "markdown",
   "metadata": {},
   "source": [
    "#### Interacting with SQLite\n",
    "There are multiple ways of interacting with an SQLite database, including:\n",
    "\n",
    "1. SQLite Command Line Utility\n",
    "2. python `sqlite3` package\n",
    "3. `pandas` SQL Interface\n",
    "4. High-level ORMs (e.g. sqlalchemy, django ORM, etc.)\n",
    "\n",
    "In this lab we will walk through methods 1-3, and then give pointers to a few *Object Relational Mappers (ORMs)* of method 4.  All of these methods provide some form of wrapper, or set of convenience functions, for interacting with SQLite.  Behind the scenes, the Structured Query Language (SQL) itself defines the interface to the database software.  This underlying SQL syntax will be visible to a greater or lesser degree depending upon the method that is chosen."
   ]
  },
  {
   "cell_type": "markdown",
   "metadata": {},
   "source": [
    "#### Common SQL Command Patterns\n",
    "The SQL command set has a rich syntax with numerous options, but most of the commonly used commands follow a few simple patterns.  A basic familiarity of these patterns is helpful when working in SQL: \n",
    "\n",
    "    CREATE TABLE ...\n",
    "    ALTER TABLE ... ADD COLUMN ...\n",
    "    INSERT INTO ... VALUES ...\n",
    "    UPDATE ... SET ... WHERE ...\n",
    "    SELECT ... FROM ... WHERE ...\n",
    "    SELECT ... FROM ... JOIN ... ON ...\n",
    "    DELETE FROM ... WHERE ..."
   ]
  },
  {
   "cell_type": "markdown",
   "metadata": {},
   "source": [
    "### 1. SQLite Command Line Utility\n",
    "\n",
    "The first method we'll explore is connecting to SQLite via the built-in [command line utility](https://www.sqlite.org/sqlite.html).  \n",
    "\n",
    "*Note: the commands in this section should be executed within your normal terminal shell, not in the python interpreter or an ipython notebook.  If you want to execute sql shell commands inside the notebook instead, you can install ipython-sql and use the sql magic syntax (but we're not covering that here...)*"
   ]
  },
  {
   "cell_type": "markdown",
   "metadata": {},
   "source": [
    "To start a new session of the interpreter, simply open your terminal and type `sqlite3`, followed by the name of the database file.  If the file does not yet exist, sqlite will create it.\n",
    "\n",
    "    $ sqlite3 test1.sqlite\n",
    "    \n",
    "    SQLite version 3.7.12 2012-04-03 19:43:07\n",
    "    Enter \".help\" for instructions\n",
    "    Enter SQL statements terminated with a \";\"\n",
    "    sqlite> "
   ]
  },
  {
   "cell_type": "markdown",
   "metadata": {},
   "source": [
    "Notice that your terminal prompt changes to `sqlite>`, indicating that you are now entering commands into the sqlite command line utility.  Take a quick look at the help command:\n",
    "\n",
    "    sqlite> .help\n",
    "Display the current databases - you should see the new file `test1.db`:\n",
    "\n",
    "    sqlite> .databases"
   ]
  },
  {
   "cell_type": "markdown",
   "metadata": {},
   "source": [
    "#### Creating tables and adding columns\n",
    "Create an table called `table1` with a single column `field1` containing an INTEGER PRIMARY KEY:\n",
    "\n",
    "    sqlite> CREATE TABLE table1 (field1 INTEGER PRIMARY KEY);\n",
    "\n",
    "Add a few more columns to `table1`: \n",
    "\n",
    "    sqlite> ALTER TABLE table1 ADD COLUMN field2 VARCHAR(16);\n",
    "    sqlite> ALTER TABLE table1 ADD COLUMN field3 REAL;\n",
    "    sqlite> ALTER TABLE table1 ADD COLUMN field4 TEXT;\n",
    "    \n",
    "Notice the different field types in the ALTER TABLE commands.  SQLite supports several different [field types](https://www.sqlite.org/datatype3.html), including INTEGERS, variable length VARCHAR character fields (with a max length), TEXT fields, and 'REALS', which are used to store floating point numbers."
   ]
  },
  {
   "cell_type": "markdown",
   "metadata": {},
   "source": [
    "Verify that the table was created:\n",
    "\n",
    "    sqlite> .tables"
   ]
  },
  {
   "cell_type": "markdown",
   "metadata": {},
   "source": [
    "You can check the `schema` of the table using `.schema`, which shows the commands that would be needed to create the database tables from scratch.  \n",
    "\n",
    "    sqlite> .schema\n",
    "    \n",
    "Notice that in this case, our `table1` could have been created with a single command, rather than adding each column separately.\n"
   ]
  },
  {
   "cell_type": "markdown",
   "metadata": {},
   "source": [
    "#### Adding data\n",
    "Let's add some data:\n",
    "\n",
    "    sqlite> INSERT INTO table1 VALUES (1, 'Henry James', 42, '75 Mission Street, San Francisco, CA');\n",
    "    sqlite> INSERT INTO table1 VALUES (2, 'Carol James', 40, '75 Mission Street, San Francisco, CA');\n",
    "    sqlite> INSERT INTO table1 VALUES (3, 'Jesse James', 12, '75 Mission Street, San Francisco, CA');\n",
    "\n",
    "Notice that the first column has unique values - this is a requirement for the PRIMARY KEY column.  If we try to add a record using an existing PK value we'll get an error:\n",
    "\n",
    "    sqlite> INSERT INTO table1 VALUES (3, 'Julie James', 10, '75 Mission Street, San Francisco, CA');\n",
    "    Error: PRIMARY KEY must be unique\n",
    "\n",
    "Fortunately, SQLite has some built in functionality to auto-increment the PK value - just set the value of the PK field to NULL when doing the INSERT and it will automatically be set to a valid value.\n",
    "\n",
    "    sqlite> INSERT INTO table1 VALUES (NULL, 'Julie James', 10, '75 Mission Street, San Francisco, CA');"
   ]
  },
  {
   "cell_type": "markdown",
   "metadata": {},
   "source": [
    "Now that we have some data, take a look at the database using the **SQLite Manager** Firefox plugin.\n",
    "\n",
    "1. Firefox -> Tools -> SQLite Manager\n",
    "2. Select Connect Database\n",
    "3. Highlight the table and then click the Browse and Search tab\n",
    "\n",
    "Notice that the value in `field1` for the Julie James record has been automatically set to 4. "
   ]
  },
  {
   "cell_type": "markdown",
   "metadata": {},
   "source": [
    "#### Updating records\n",
    "Suppose we need to update an existing record with new data - e.g. maybe Julie James is only 9.  For this we use the UPDATE command:\n",
    "\n",
    "    sqlite> UPDATE table1 SET field3=9 WHERE field1=4;"
   ]
  },
  {
   "cell_type": "markdown",
   "metadata": {},
   "source": [
    "#### Basic Queries\n",
    "As the second term in Structured Query Language implies, a real strength of SQL is the ability to perform complex queries, returning a subset of records that match particular criteria.  Let's try a couple:\n",
    "\n",
    "    sqlite> SELECT * FROM table1 WHERE field1 = 2;\n",
    "    2|Carol James|40.0|75 Mission Street, San Francisco, CA\n",
    "\n",
    "    sqlite> SELECT * FROM table1 WHERE field3 > 35;\n",
    "    1|Henry James|42.0|75 Mission Street, San Francisco, CA\n",
    "    2|Carol James|40.0|75 Mission Street, San Francisco, CA\n",
    "\n",
    "    sqlite> SELECT * FROM table1 WHERE field2 like '%Henry%';\n",
    "    1|Henry James|42.0|75 Mission Street\n",
    "\n",
    "    sqlite> SELECT * FROM table1 WHERE field2 like '%James%' and field3 < 15;\n",
    "    3|Jesse James|12.0|75 Mission Street, San Francisco, CA\n",
    "    4|Julie James|9.0|75 Mission Street, San Francisco, CA\n",
    "    "
   ]
  },
  {
   "cell_type": "markdown",
   "metadata": {},
   "source": [
    "#### Removing Records\n",
    "To remove records use the DELETE command:\n",
    "\n",
    "    sqlite> DELETE FROM table1 WHERE field2 like '%Jesse%';\n",
    "    \n",
    "Use SQLite-Manager to verify that the Jesse James record has been removed.  To exit the sqlite interpreter type `.exit`.\n",
    "\n",
    "    sqlite>  .exit"
   ]
  },
  {
   "cell_type": "markdown",
   "metadata": {},
   "source": [
    "### 2. python `sqlite3` package\n",
    "\n",
    "The command line utility can be useful for basic SQL tasks, but since we're using python for the rest of code it will often be easier to access sqlite directly from within python.  We can use the python [`sqlite3`](https://docs.python.org/2.7/library/sqlite3.html) package for just this purpose.\n",
    "\n",
    "*Note: from this point forward we'll be running python commands within the notebook as usual.*"
   ]
  },
  {
   "cell_type": "code",
   "execution_count": null,
   "metadata": {
    "collapsed": false
   },
   "outputs": [],
   "source": [
    "#usual imports\n",
    "import numpy as np\n",
    "import matplotlib.pyplot as plt\n",
    "import pandas as pd\n",
    "from bokeh.plotting import figure,show,output_notebook\n",
    "output_notebook()\n",
    "# our new package\n",
    "import sqlite3"
   ]
  },
  {
   "cell_type": "markdown",
   "metadata": {},
   "source": [
    "Open a connection to an SQLite database file.  As before, if the file does not already exist it will automatically be created."
   ]
  },
  {
   "cell_type": "code",
   "execution_count": null,
   "metadata": {
    "collapsed": false
   },
   "outputs": [],
   "source": [
    "sqlite_db = 'housing.sqlite'\n",
    "conn = sqlite3.connect(sqlite_db) \n",
    "c = conn.cursor()"
   ]
  },
  {
   "cell_type": "markdown",
   "metadata": {},
   "source": [
    "The syntax to create a table is similar to before, only now we use the `execute` method of the cursor object `c` that we just created:"
   ]
  },
  {
   "cell_type": "code",
   "execution_count": null,
   "metadata": {
    "collapsed": false
   },
   "outputs": [],
   "source": [
    "c.execute('CREATE TABLE houses (field1 INTEGER PRIMARY KEY, sqft INTEGER, bdrms INTEGER, age INTEGER, price INTEGER);')"
   ]
  },
  {
   "cell_type": "code",
   "execution_count": null,
   "metadata": {
    "collapsed": false
   },
   "outputs": [],
   "source": [
    "# Save (commit) the changes\n",
    "conn.commit()"
   ]
  },
  {
   "cell_type": "markdown",
   "metadata": {},
   "source": [
    "With the database saved the table should now be viewable using SQLite Manager."
   ]
  },
  {
   "cell_type": "markdown",
   "metadata": {},
   "source": [
    "#### Adding data\n",
    "\n",
    "Since we're back in python, we can now use regular programming techniques in conjunction with the sqlite connection.  In particular, the cursor's `execute()` method supports value substitutionusing the `?` character, which makes adding multiple records a bit easier.  See the [docs](https://docs.python.org/2.7/library/sqlite3.html) for more details."
   ]
  },
  {
   "cell_type": "code",
   "execution_count": null,
   "metadata": {
    "collapsed": false
   },
   "outputs": [],
   "source": [
    "last_sale = (None, 4000, 5, 22, 619000)\n",
    "c.execute('INSERT INTO houses VALUES (?,?,?,?,?)',last_sale)"
   ]
  },
  {
   "cell_type": "markdown",
   "metadata": {},
   "source": [
    "Notice that in this syntax we use the python `None` value, rather than `NULL`, to trigger SQLite to auto-increment the Primary Key. "
   ]
  },
  {
   "cell_type": "code",
   "execution_count": null,
   "metadata": {
    "collapsed": false
   },
   "outputs": [],
   "source": [
    "# Remember to commit the changes\n",
    "conn.commit()"
   ]
  },
  {
   "cell_type": "markdown",
   "metadata": {},
   "source": [
    "There is a related cursor method `executemany()` which takes an array of tuples and loops through them, substituting one tuple at a time."
   ]
  },
  {
   "cell_type": "code",
   "execution_count": null,
   "metadata": {
    "collapsed": false
   },
   "outputs": [],
   "source": [
    "recent_sales = [\n",
    "  (None, 2390, 4, 34, 319000),\n",
    "  (None, 1870, 3, 14, 289000),\n",
    "  (None, 1505, 3, 90, 269000),\n",
    "]\n",
    "\n",
    "c.executemany('INSERT INTO houses VALUES (?, ?, ?, ?, ?)', recent_sales)\n",
    "\n",
    "conn.commit()"
   ]
  },
  {
   "cell_type": "markdown",
   "metadata": {},
   "source": [
    "Once again, use SQLite Manager to verify the database contents. "
   ]
  },
  {
   "cell_type": "markdown",
   "metadata": {},
   "source": [
    "#### Adding data from a csv file\n",
    "Next let's load our housing.csv data into an array, and then `INSERT` those records into the database.  In this example we'll use the numpy `genfromtxt` function to read the file and parse the contents. "
   ]
  },
  {
   "cell_type": "code",
   "execution_count": null,
   "metadata": {
    "collapsed": false
   },
   "outputs": [],
   "source": [
    "from numpy import genfromtxt\n",
    "\n",
    "# import into nparray of ints, then convert to list of lists\n",
    "data = (genfromtxt('housing-data.csv', dtype='i8', \n",
    "                    delimiter=',', skip_header=1)).tolist()\n",
    "\n",
    "# append a None value to beginning of each sub-list\n",
    "for d in data:\n",
    "    d.insert(0, None)\n",
    "\n",
    "# confirm that the data looks the way we want it to\n",
    "data"
   ]
  },
  {
   "cell_type": "code",
   "execution_count": null,
   "metadata": {
    "collapsed": false
   },
   "outputs": [],
   "source": [
    "# loop through data, running an INSERT on each record (i.e. sublist)\n",
    "for d in data:\n",
    "    c.execute('INSERT INTO houses VALUES (?, ?, ?, ?, ?)', d)"
   ]
  },
  {
   "cell_type": "code",
   "execution_count": null,
   "metadata": {
    "collapsed": false
   },
   "outputs": [],
   "source": [
    "conn.commit()"
   ]
  },
  {
   "cell_type": "markdown",
   "metadata": {},
   "source": [
    "A reason for this example - remember that all elements in a numpy array must be the same data type, so if we want to 'add a None' to each row, we need to work around this.  Lists can contain mixed types, so that is one approach.\n",
    "\n",
    "Still, in this case the value we're adding is the same for all records, so we could have simply used a 'None' in the INSERT statement directly:"
   ]
  },
  {
   "cell_type": "code",
   "execution_count": null,
   "metadata": {
    "collapsed": false
   },
   "outputs": [],
   "source": [
    "data = genfromtxt('houses.csv', dtype='i8', \n",
    "                   delimiter=',', skip_header=1)"
   ]
  },
  {
   "cell_type": "code",
   "execution_count": null,
   "metadata": {
    "collapsed": false
   },
   "outputs": [],
   "source": [
    "data"
   ]
  },
  {
   "cell_type": "code",
   "execution_count": null,
   "metadata": {
    "collapsed": false
   },
   "outputs": [],
   "source": [
    "# for d in data:\n",
    "#    c.execute('INSERT INTO houses VALUES (?, ?, ?, ?, ?)', [None, d[0], d[1], d[2], d[3]])\n",
    "\n",
    "# conn.commit()"
   ]
  },
  {
   "cell_type": "markdown",
   "metadata": {},
   "source": [
    "Unfortunately we now have duplicate records in our database.  Here's a DELETE string to remove them:"
   ]
  },
  {
   "cell_type": "code",
   "execution_count": null,
   "metadata": {
    "collapsed": false
   },
   "outputs": [],
   "source": [
    "# c.execute('DELETE FROM houses WHERE pk not in \\\n",
    "#         (SELECT min(pk) FROM houses GROUP BY sqft, bdrms, age, price)') \n",
    "\n",
    "conn.commit()"
   ]
  },
  {
   "cell_type": "markdown",
   "metadata": {},
   "source": [
    "#### More Queries\n",
    "Let's try some queries with this slightly larger dataset, this time using the python syntax."
   ]
  },
  {
   "cell_type": "code",
   "execution_count": null,
   "metadata": {
    "collapsed": false
   },
   "outputs": [],
   "source": [
    "# similar syntax as before\n",
    "# results = c.execute(\"SELECT * FROM houses WHERE bdrms = 4\")\n",
    "\n",
    "# here results is a cursor object - use fetchall() to extract a list\n",
    "# results.fetchall()"
   ]
  },
  {
   "cell_type": "code",
   "execution_count": null,
   "metadata": {
    "collapsed": false
   },
   "outputs": [],
   "source": [
    "# ..."
   ]
  },
  {
   "cell_type": "markdown",
   "metadata": {},
   "source": [
    "Try some of your own queries ..."
   ]
  },
  {
   "cell_type": "code",
   "execution_count": null,
   "metadata": {
    "collapsed": false
   },
   "outputs": [],
   "source": []
  },
  {
   "cell_type": "markdown",
   "metadata": {},
   "source": [
    "#### Multi-table Datasets - ENRON Archive\n",
    "\n",
    "So far our sample databases have had only a single table, but SQL is really oriented around multi-table databases.  Let's load a database with a more complex schema - the email archive of the ENRON corporation."
   ]
  },
  {
   "cell_type": "code",
   "execution_count": null,
   "metadata": {
    "collapsed": false
   },
   "outputs": [],
   "source": [
    "conn = sqlite3.connect('enron.db') \n",
    "c = conn.cursor()"
   ]
  },
  {
   "cell_type": "markdown",
   "metadata": {},
   "source": [
    "Take a look at the database in SQLite Manager - you should see 3 tables.  To view a table list in python we can query the master table:"
   ]
  },
  {
   "cell_type": "code",
   "execution_count": null,
   "metadata": {
    "collapsed": false
   },
   "outputs": [],
   "source": [
    "c.execute(\"SELECT name FROM sqlite_master WHERE type='table';\").fetchall()"
   ]
  },
  {
   "cell_type": "code",
   "execution_count": null,
   "metadata": {
    "collapsed": false
   },
   "outputs": [],
   "source": [
    "fields = c.execute(\"SELECT sql from sqlite_master WHERE type='table' and name='EmployeeBase';\").fetchall()\n",
    "print fields"
   ]
  },
  {
   "cell_type": "code",
   "execution_count": null,
   "metadata": {
    "collapsed": false
   },
   "outputs": [],
   "source": [
    "# make it a little easier to look at\n",
    "fields =(fields[0][0].split('\\n'))[1:]  # pull out the string and split on \\n into list\n",
    "print fields"
   ]
  },
  {
   "cell_type": "markdown",
   "metadata": {},
   "source": [
    "The cursor also has a description attribute with this data, that may be easier to work with:"
   ]
  },
  {
   "cell_type": "code",
   "execution_count": null,
   "metadata": {
    "collapsed": false
   },
   "outputs": [],
   "source": [
    "c.description"
   ]
  },
  {
   "cell_type": "code",
   "execution_count": null,
   "metadata": {
    "collapsed": false
   },
   "outputs": [],
   "source": [
    "[f[0] for f in c.description] "
   ]
  },
  {
   "cell_type": "markdown",
   "metadata": {},
   "source": [
    "Look at the first 5 records of each table:"
   ]
  },
  {
   "cell_type": "code",
   "execution_count": null,
   "metadata": {
    "collapsed": false
   },
   "outputs": [],
   "source": [
    "# print first 5 rows of EmployeeBase table\n",
    "results = c.execute(\"SELECT * FROM EmployeeBase LIMIT 5;\").fetchall()\n",
    "for row in results:\n",
    "   print row"
   ]
  },
  {
   "cell_type": "code",
   "execution_count": null,
   "metadata": {
    "collapsed": false
   },
   "outputs": [],
   "source": [
    "# print first 5 rows of MessageBase table\n",
    "results = c.execute(\"SELECT * FROM MessageBase LIMIT 5;\").fetchall()\n",
    "for row in results:\n",
    "   print row"
   ]
  },
  {
   "cell_type": "code",
   "execution_count": null,
   "metadata": {
    "collapsed": false,
    "scrolled": true
   },
   "outputs": [],
   "source": [
    "# print first 10 rows of RecipientBase table\n",
    "results = c.execute(\"SELECT * FROM RecipientBase LIMIT 10;\").fetchall()\n",
    "for row in results:\n",
    "   print row\n",
    "    \n",
    "# mid, rno, to_eid    "
   ]
  },
  {
   "cell_type": "markdown",
   "metadata": {},
   "source": [
    "The first field is message id, the second is recipient number, and the third is the id of the recipient.  Let's do a quick count of the number of recipients per message."
   ]
  },
  {
   "cell_type": "code",
   "execution_count": null,
   "metadata": {
    "collapsed": false
   },
   "outputs": [],
   "source": [
    "results = c.execute(\"SELECT max(rno) FROM RecipientBase GROUP BY mid;\").fetchall()\n",
    "print results"
   ]
  },
  {
   "cell_type": "code",
   "execution_count": null,
   "metadata": {
    "collapsed": false
   },
   "outputs": [],
   "source": [
    "# use a python 2.7 convenience function: collections\n",
    "import collections\n",
    "\n",
    "counts = collections.Counter(results)\n",
    "\n",
    "print counts"
   ]
  },
  {
   "cell_type": "code",
   "execution_count": null,
   "metadata": {
    "collapsed": false
   },
   "outputs": [],
   "source": [
    "print(counts.most_common())"
   ]
  },
  {
   "cell_type": "code",
   "execution_count": null,
   "metadata": {
    "collapsed": false
   },
   "outputs": [],
   "source": [
    "x = [i[0][0] for i in counts.most_common()]\n",
    "y = [i[1] for i in counts.most_common()]\n",
    "left_border = [val-0.5 for val in x]\n",
    "right_border = [val+0.5 for val in x]\n",
    "\n",
    "\n",
    "p= figure(title=\"Message Recipients\",tools='',x_axis_label='# of recipients',y_axis_label='Counts')\n",
    "p.quad(top=y,left=left_border,right=right_border,bottom=0,line_color='black')\n",
    "show(p)"
   ]
  },
  {
   "cell_type": "markdown",
   "metadata": {},
   "source": [
    "Rescale to investigate the tail of the curve"
   ]
  },
  {
   "cell_type": "code",
   "execution_count": null,
   "metadata": {
    "collapsed": false
   },
   "outputs": [],
   "source": [
    "x = [i[0][0] for i in counts.most_common()[5:]] # chop off the first 5\n",
    "y = [i[1] for i in counts.most_common()[5:]]  # chop off the first 5\n",
    "left_border = [val-0.5 for val in x]\n",
    "right_border = [val+0.5 for val in x]\n",
    "\n",
    "\n",
    "p= figure(title=\"Message Recipients\",tools='',x_axis_label='# of recipients',y_axis_label='Counts')\n",
    "p.quad(top=y,left=left_border,right=right_border,bottom=0,line_color='black')\n",
    "show(p)"
   ]
  },
  {
   "cell_type": "markdown",
   "metadata": {},
   "source": [
    "Let's perform a similar count of which employees received the most messages: "
   ]
  },
  {
   "cell_type": "code",
   "execution_count": null,
   "metadata": {
    "collapsed": false
   },
   "outputs": [],
   "source": [
    "results = c.execute(\"SELECT to_eid, count(to_eid) FROM RecipientBase GROUP BY to_eid;\").fetchall()\n",
    "results.sort(key=lambda x: x[1], reverse=True)\n",
    "print results"
   ]
  },
  {
   "cell_type": "markdown",
   "metadata": {},
   "source": [
    "Top recipients?"
   ]
  },
  {
   "cell_type": "code",
   "execution_count": null,
   "metadata": {
    "collapsed": false
   },
   "outputs": [],
   "source": [
    "# print c.execute(\"SELECT * FROM EmployeeBase WHERE eid = 131;\").fetchall()"
   ]
  },
  {
   "cell_type": "code",
   "execution_count": null,
   "metadata": {
    "collapsed": false
   },
   "outputs": [],
   "source": [
    "# print c.execute(\"SELECT * FROM EmployeeBase WHERE eid = 122;\").fetchall()"
   ]
  },
  {
   "cell_type": "code",
   "execution_count": null,
   "metadata": {
    "collapsed": false
   },
   "outputs": [],
   "source": [
    "# print c.execute(\"SELECT * FROM EmployeeBase WHERE eid = 138;\").fetchall()"
   ]
  },
  {
   "cell_type": "markdown",
   "metadata": {},
   "source": [
    "Bottom recipients?"
   ]
  },
  {
   "cell_type": "code",
   "execution_count": null,
   "metadata": {
    "collapsed": false
   },
   "outputs": [],
   "source": [
    "# print c.execute(\"SELECT * FROM EmployeeBase WHERE eid = 52;\").fetchall()"
   ]
  },
  {
   "cell_type": "code",
   "execution_count": null,
   "metadata": {
    "collapsed": false
   },
   "outputs": [],
   "source": [
    "# print c.execute(\"SELECT * FROM EmployeeBase WHERE eid = 139;\").fetchall()"
   ]
  },
  {
   "cell_type": "markdown",
   "metadata": {},
   "source": [
    "What does this distribution look like?"
   ]
  },
  {
   "cell_type": "code",
   "execution_count": null,
   "metadata": {
    "collapsed": false
   },
   "outputs": [],
   "source": [
    "x = [i[0]for i in results]\n",
    "y = [i[1] for i in results]\n",
    "left_border = [val-0.5 for val in x]\n",
    "right_border = [val+0.5 for val in x]\n",
    "\n",
    "\n",
    "p= figure(title=\"Popular Employees\",tools='',x_axis_label='# received',y_axis_label='Counts')\n",
    "p.quad(top=y,left=left_border,right=right_border,bottom=0,line_color='black')\n",
    "show(p)"
   ]
  },
  {
   "cell_type": "markdown",
   "metadata": {},
   "source": [
    "#### JOINS\n",
    "\n",
    "It looks like RecipentBase is a JOIN table (i.e. contains FOREIGN KEYS) used to link records in EmployeeBase and MessageBase (which is in fact the case).  We can do a SELECT that first JOINS the data of two different tables.  Notice that the returned records contain fields from two different tables (but not all the fields)."
   ]
  },
  {
   "cell_type": "code",
   "execution_count": null,
   "metadata": {
    "collapsed": false
   },
   "outputs": [],
   "source": [
    "# results = c.execute(\"SELECT name, department, title, seniority, subject, filename \\\n",
    "#           FROM EmployeeBase JOIN MessageBase ON eid = from_eid LIMIT 5;\").fetchall()\n",
    "# for row in results:\n",
    "#    print row"
   ]
  },
  {
   "cell_type": "markdown",
   "metadata": {},
   "source": [
    "Try some of your own queries"
   ]
  },
  {
   "cell_type": "markdown",
   "metadata": {},
   "source": [
    "### 3. `pandas` SQL Interface\n",
    "`pandas` has some convenience functions that simplify the interface to SQLite.  Under the hood, `pandas` is still using the `sqlite3`, but these functions take care of some of the data wrangling for you.  "
   ]
  },
  {
   "cell_type": "code",
   "execution_count": null,
   "metadata": {
    "collapsed": false
   },
   "outputs": [],
   "source": [
    "import pandas as pd"
   ]
  },
  {
   "cell_type": "markdown",
   "metadata": {},
   "source": [
    "Let's start with a 'manual' approach to better understand the transformation:"
   ]
  },
  {
   "cell_type": "code",
   "execution_count": null,
   "metadata": {
    "collapsed": false
   },
   "outputs": [],
   "source": [
    "results = c.execute(\"SELECT * FROM EmployeeBase LIMIT 5;\").fetchall()\n",
    "for row in results:\n",
    "    print row"
   ]
  },
  {
   "cell_type": "markdown",
   "metadata": {},
   "source": [
    "You can pass this list of tuples to the DataFrame constructor, but you also need column names, contained in the cursor's `description` attribute.  \n",
    "\n",
    "ref: [Python for Data Analysis](http://shop.oreilly.com/product/0636920023784.do), p.175"
   ]
  },
  {
   "cell_type": "code",
   "execution_count": null,
   "metadata": {
    "collapsed": false
   },
   "outputs": [],
   "source": [
    "# c.description"
   ]
  },
  {
   "cell_type": "markdown",
   "metadata": {},
   "source": [
    "With these two pieces of info we can create a dataframe with the results:"
   ]
  },
  {
   "cell_type": "code",
   "execution_count": null,
   "metadata": {
    "collapsed": false
   },
   "outputs": [],
   "source": [
    "pd.DataFrame(results, columns=zip(*c.description)[0])"
   ]
  },
  {
   "cell_type": "markdown",
   "metadata": {},
   "source": [
    "The `read_frame` function in the `pandas.io.sql` module simplifies the process a bit more:"
   ]
  },
  {
   "cell_type": "code",
   "execution_count": null,
   "metadata": {
    "collapsed": false
   },
   "outputs": [],
   "source": [
    "import pandas.io.sql as sql"
   ]
  },
  {
   "cell_type": "code",
   "execution_count": null,
   "metadata": {
    "collapsed": false
   },
   "outputs": [],
   "source": [
    "# pass in the query string and the connection as arguments\n",
    "sql.read_sql('SELECT * FROM EmployeeBase LIMIT 5', conn)"
   ]
  },
  {
   "cell_type": "code",
   "execution_count": null,
   "metadata": {
    "collapsed": false
   },
   "outputs": [],
   "source": [
    "sql.read_sql('SELECT * FROM MessageBase LIMIT 5', conn)"
   ]
  },
  {
   "cell_type": "code",
   "execution_count": null,
   "metadata": {
    "collapsed": false
   },
   "outputs": [],
   "source": [
    "sql.read_sql('SELECT * FROM RecipientBase LIMIT 5', conn)"
   ]
  },
  {
   "cell_type": "markdown",
   "metadata": {},
   "source": [
    "#### More JOINS\n",
    "You can link JOINs together to build very complex logic that spans tables.  What if we want to build a DataFrame that has message id, sender ID, sender name, receiver ID, receiver name, and subject?"
   ]
  },
  {
   "cell_type": "code",
   "execution_count": null,
   "metadata": {
    "collapsed": false
   },
   "outputs": [],
   "source": [
    "sql.read_sql('SELECT * FROM RecipientBase JOIN EmployeeBase ON to_eid=eid LIMIT 5', conn) "
   ]
  },
  {
   "cell_type": "code",
   "execution_count": null,
   "metadata": {
    "collapsed": false
   },
   "outputs": [],
   "source": [
    "sql.read_sql('SELECT * FROM RecipientBase JOIN MessageBase ON RecipientBase.mid=MessageBase.mid LIMIT 5', conn) "
   ]
  },
  {
   "cell_type": "markdown",
   "metadata": {},
   "source": [
    "Fetching values from the same table multiple times"
   ]
  },
  {
   "cell_type": "code",
   "execution_count": null,
   "metadata": {
    "collapsed": false
   },
   "outputs": [],
   "source": [
    "# JOINS ACROSS MULTIPLE TABLES - CONFUSING!\n",
    "emails = sql.read_frame('SELECT \\\n",
    "                        rb1.mid as msg_id, \\\n",
    "                        mb1.from_eid as from_id, \\\n",
    "                        eb2.name as from_name, \\\n",
    "                        rb1.to_eid as to_id, \\\n",
    "                        eb1.name as to_name, \\\n",
    "                        mb1.subject \\\n",
    "                FROM RecipientBase as rb1 \\\n",
    "                INNER JOIN EmployeeBase as eb1 ON rb1.to_eid=eb1.eid \\\n",
    "                INNER JOIN EmployeeBase as eb2 ON mb1.from_eid = eb2.eid \\\n",
    "                INNER JOIN MessageBase as mb1 ON rb1.mid = mb1.mid' \\\n",
    "                , conn)"
   ]
  },
  {
   "cell_type": "code",
   "execution_count": null,
   "metadata": {
    "collapsed": false
   },
   "outputs": [],
   "source": [
    "emails"
   ]
  },
  {
   "cell_type": "markdown",
   "metadata": {},
   "source": [
    "Which employees sent the most 'mass' emails?"
   ]
  },
  {
   "cell_type": "code",
   "execution_count": null,
   "metadata": {
    "collapsed": false
   },
   "outputs": [],
   "source": [
    "sql.read_frame('SELECT name, title, MAX(rno) AS recipient_count \\\n",
    "                FROM EmployeeBase \\\n",
    "                JOIN MessageBase ON eid = from_eid \\\n",
    "                JOIN RecipientBase USING(mid) \\\n",
    "                GROUP BY name, title ORDER BY recipient_count DESC LIMIT 5', conn)"
   ]
  },
  {
   "cell_type": "markdown",
   "metadata": {},
   "source": [
    "#### Writing from a DataFrame back to SQLite\n",
    "Let's pretend the Trading department has been renamed the Forestry department.  How can we update all the records in the EmployeeBase table?"
   ]
  },
  {
   "cell_type": "code",
   "execution_count": null,
   "metadata": {
    "collapsed": false
   },
   "outputs": [],
   "source": [
    "people = sql.read_sql('SELECT * FROM EmployeeBase', conn)\n",
    "people.head()"
   ]
  },
  {
   "cell_type": "code",
   "execution_count": null,
   "metadata": {
    "collapsed": false
   },
   "outputs": [],
   "source": [
    "# ...\n",
    "# ..."
   ]
  },
  {
   "cell_type": "code",
   "execution_count": null,
   "metadata": {
    "collapsed": false
   },
   "outputs": [],
   "source": [
    "sql.to_sql(people, 'EmployeeBase', conn, if_exists='replace')    # if_exists = <'fail', 'replace', 'append'>"
   ]
  },
  {
   "cell_type": "code",
   "execution_count": null,
   "metadata": {
    "collapsed": false
   },
   "outputs": [],
   "source": [
    "sql.read_sql('SELECT * FROM EmployeeBase', conn)"
   ]
  },
  {
   "cell_type": "markdown",
   "metadata": {},
   "source": [
    "### 4. High-level ORMs (e.g. sqlalchemy, django ORM, etc.)\n",
    "\n",
    "If you do any significant SQL programming in python, you may find it convenient to use a library or framework that provides a higher-level abstraction of your database.  Such libraries often include an Object Relational Mapper (ORM), which allows you to work with data in terms of python objects or classes, transparently handling database operations in the background.  A few examples are included here for reference:\n",
    "\n",
    "http://www.sqlalchemy.org/  \n",
    "http://www.djangoproject.com/  \n",
    "http://python-orm.org\n",
    "http://curdpy.readthedocs.org/en/latest/  \n",
    "https://wiki.python.org/moin/HigherLevelDatabaseProgramming  \n",
    "\n",
    "Some of these libraries provide a single abstract interface that hides the differences between various SQL implementations - e.g. SQLite, PostgreSQL, MySQL, etc.  This can make it easier to transfer code between environments, for example, if you are using SQLite during development but another server for production.\n",
    "\n",
    "#### SQL via REST API / JSON\n",
    "\n",
    "Another very common approach for accessing an SQL database is to run a webserver that (i) connects to the database on the backend and (ii) presents a REST / JSON API over HTTP.  Queries are then submitted as specially formed URL strings, and results are returned as JSON objects (which are easily converted to python dictionaries)."
   ]
  },
  {
   "cell_type": "markdown",
   "metadata": {},
   "source": [
    "#### One more trick - serializing JSON into SQL TEXT"
   ]
  },
  {
   "cell_type": "code",
   "execution_count": null,
   "metadata": {
    "collapsed": false
   },
   "outputs": [],
   "source": [
    "# data fetching, parsing, and storage\n",
    "import urllib2\n",
    "import json\n",
    "\n",
    "url = 'https://www.govtrack.us/api/v2/vote/1'"
   ]
  },
  {
   "cell_type": "code",
   "execution_count": null,
   "metadata": {
    "collapsed": false
   },
   "outputs": [],
   "source": [
    "def fetch_json(url):\n",
    "    \"\"\" Fetch a json file / object from a url and convert to a python dict\n",
    "\n",
    "    Args:\n",
    "        url:  url of the json object\n",
    "\n",
    "    Returns:\n",
    "        data:  python dict containing fetched data\n",
    "\n",
    "    \"\"\"\n",
    "    req = urllib2.Request(url, None, {'user-agent': 'syncstream/vimeo'})\n",
    "    opener = urllib2.build_opener()\n",
    "    f = opener.open(req)\n",
    "    # data = simplejson.load(f)\n",
    "    data = json.load(f)\n",
    "    return data\n"
   ]
  },
  {
   "cell_type": "code",
   "execution_count": null,
   "metadata": {
    "collapsed": false
   },
   "outputs": [],
   "source": [
    "data = fetch_json(url)\n",
    "data"
   ]
  },
  {
   "cell_type": "code",
   "execution_count": null,
   "metadata": {
    "collapsed": false
   },
   "outputs": [],
   "source": [
    "conn = sqlite3.connect('json_test.db') \n",
    "c = conn.cursor()\n",
    "\n",
    "# create a simple table\n",
    "c.execute(\"CREATE TABLE records (pk INTEGER PRIMARY KEY, json TEXT)\")"
   ]
  },
  {
   "cell_type": "code",
   "execution_count": null,
   "metadata": {
    "collapsed": false
   },
   "outputs": [],
   "source": [
    "conn.commit()"
   ]
  },
  {
   "cell_type": "code",
   "execution_count": null,
   "metadata": {
    "collapsed": false
   },
   "outputs": [],
   "source": [
    "json_rec = json.dumps(data)\n",
    "record = (None, json_rec)"
   ]
  },
  {
   "cell_type": "code",
   "execution_count": null,
   "metadata": {
    "collapsed": false
   },
   "outputs": [],
   "source": [
    "c.execute('INSERT INTO records VALUES (?, ?)', record)"
   ]
  },
  {
   "cell_type": "code",
   "execution_count": null,
   "metadata": {
    "collapsed": false
   },
   "outputs": [],
   "source": [
    "conn.commit()"
   ]
  },
  {
   "cell_type": "code",
   "execution_count": null,
   "metadata": {
    "collapsed": false
   },
   "outputs": [],
   "source": [
    "out = c.execute('SELECT * FROM records').fetchall()"
   ]
  },
  {
   "cell_type": "code",
   "execution_count": null,
   "metadata": {
    "collapsed": false
   },
   "outputs": [],
   "source": [
    "data_out = json.loads(out[0][1])"
   ]
  },
  {
   "cell_type": "code",
   "execution_count": null,
   "metadata": {
    "collapsed": false
   },
   "outputs": [],
   "source": [
    "data_out"
   ]
  },
  {
   "cell_type": "markdown",
   "metadata": {},
   "source": [
    "## MongoDB (noSQL)\n",
    "\n",
    "Mongo can be handy for quick personal projects. It's quick to set up and you don't have to think about designing schemas. Just don't expect it to scale well to a hundred servers. If you want to get a flavor for connecting to Mongo from Python, complete this section.\n",
    "\n",
    "If you're on a Mac, the following should work....\n",
    "\n",
    "```\n",
    "brew install mongodb # if this doesn't work try sudo chown -R $USER /usr/local\n",
    "pip install pymongo  # if this doesn't work, try sudo pip install pymongo\n",
    "mkdir ~/temp_mongo\n",
    "mongod --dbpath ~/temp_mongo\n",
    "```\n",
    "\n",
    "For Linux users, find your distro here: http://www.mongodb.org/downloads#packages\n",
    "The latter three steps should be the same.\n",
    "\n",
    "For Windows users, you can download binaries here: http://www.mongodb.org/downloads"
   ]
  },
  {
   "cell_type": "markdown",
   "metadata": {},
   "source": [
    "We'll use the Rotten Tomatoes dataset."
   ]
  },
  {
   "cell_type": "code",
   "execution_count": null,
   "metadata": {
    "collapsed": false
   },
   "outputs": [],
   "source": [
    "# load data from a csv file into a Pandas DataFrame.\n",
    "\n",
    "df = pd.read_csv('./data/rt_critics.csv', \n",
    "                 parse_dates=[5],\n",
    "                 encoding='utf-8')"
   ]
  },
  {
   "cell_type": "code",
   "execution_count": null,
   "metadata": {
    "collapsed": false
   },
   "outputs": [],
   "source": [
    "from pymongo import MongoClient\n",
    "\n",
    "connection = MongoClient('localhost', 27017)\n",
    "db = connection['GA']\n",
    "collection = db['tomato']"
   ]
  },
  {
   "cell_type": "code",
   "execution_count": null,
   "metadata": {
    "collapsed": false
   },
   "outputs": [],
   "source": [
    "collection.count()"
   ]
  },
  {
   "cell_type": "code",
   "execution_count": null,
   "metadata": {
    "collapsed": false
   },
   "outputs": [],
   "source": [
    "# store records in mongo\n",
    "for _, rec in df.iterrows():\n",
    "    collection.insert(rec.to_dict())"
   ]
  },
  {
   "cell_type": "code",
   "execution_count": null,
   "metadata": {
    "collapsed": false
   },
   "outputs": [],
   "source": [
    "# fetch the records back out. What do they look like?\n",
    "print collection.find({}).count(), 'total records'\n",
    "\n",
    "df = pd.DataFrame.from_records(collection.find({}), index='_id')\n",
    "df.head()"
   ]
  },
  {
   "cell_type": "markdown",
   "metadata": {},
   "source": [
    "**Write some Mongo queries**\n",
    "\n",
    "Note: pymongo is slightly different from the javascript examples you went through in the tutorials. Most notably, the keys in the dictionary need to be encapsulated in quotes in python. You will probably want to refer the [pymongo reference](http://api.mongodb.org/python/current/) for this section. If you're not used to learning an API from reading the docs, this section is probably not worth your effort. Mongo isn't worth that much pain."
   ]
  },
  {
   "cell_type": "code",
   "execution_count": null,
   "metadata": {
    "collapsed": false
   },
   "outputs": [],
   "source": [
    "# How many reviews are by Roger Ebert?"
   ]
  },
  {
   "cell_type": "code",
   "execution_count": null,
   "metadata": {
    "collapsed": false
   },
   "outputs": [],
   "source": [
    "# How many fresh reviews are by Roger Ebert?"
   ]
  },
  {
   "cell_type": "code",
   "execution_count": null,
   "metadata": {
    "collapsed": false
   },
   "outputs": [],
   "source": [
    "# Find one rotten review by Roger Ebert"
   ]
  },
  {
   "cell_type": "code",
   "execution_count": null,
   "metadata": {
    "collapsed": false
   },
   "outputs": [],
   "source": [
    "# Find all rotten reviews by Roger Ebert. Store in a DataFrame as in the example and print the head."
   ]
  },
  {
   "cell_type": "code",
   "execution_count": null,
   "metadata": {
    "collapsed": false
   },
   "outputs": [],
   "source": [
    "# In which publications has Roger Ebert made fresh reviews?\n",
    "# This one will probably require munging in python instead of pure Mongo."
   ]
  },
  {
   "cell_type": "code",
   "execution_count": null,
   "metadata": {
    "collapsed": false
   },
   "outputs": [],
   "source": [
    "# How many reviews are from before the year 2000?\n",
    "from datetime import datetime"
   ]
  },
  {
   "cell_type": "markdown",
   "metadata": {},
   "source": [
    "### References & Further Reading:\n",
    "\n",
    "[sqlite3 home](http://www.sqlite.org)  \n",
    "[SQLite - Python tutorial](http://sebastianraschka.com/Articles/2014_sqlite_in_python_tutorial.html)  \n",
    "[SQLAlchemy home](http://www.sqlalchemy.org)  \n",
    "[MongoDB home](http://www.mongodb.org/)\n",
    "[CAP Theorem](http://en.wikipedia.org/wiki/CAP_theorem)\n",
    "[Response to CAP Theorem](http://www.infoq.com/articles/cap-twelve-years-later-how-the-rules-have-changed)"
   ]
  }
 ],
 "metadata": {
  "kernelspec": {
   "display_name": "Python 2",
   "language": "python",
   "name": "python2"
  },
  "language_info": {
   "codemirror_mode": {
    "name": "ipython",
    "version": 2
   },
   "file_extension": ".py",
   "mimetype": "text/x-python",
   "name": "python",
   "nbconvert_exporter": "python",
   "pygments_lexer": "ipython2",
   "version": "2.7.10"
  }
 },
 "nbformat": 4,
 "nbformat_minor": 0
}
